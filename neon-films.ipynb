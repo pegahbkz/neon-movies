{
 "cells": [
  {
   "cell_type": "markdown",
   "id": "f0dcb5bb-e7c8-40e0-8212-31de90c70dc5",
   "metadata": {
    "tags": []
   },
   "source": [
    "# Neon Films Audience Preference Analysis"
   ]
  },
  {
   "cell_type": "markdown",
   "id": "066ea8f5-d024-4e52-a0a1-cf7e4819c66a",
   "metadata": {},
   "source": [
    "## Data Collection"
   ]
  },
  {
   "cell_type": "code",
   "execution_count": 2,
   "id": "2fbf99b6-b6da-4cbe-961d-92f78712824d",
   "metadata": {
    "tags": []
   },
   "outputs": [],
   "source": [
    "import requests\n",
    "import time\n",
    "\n",
    "# OMDB API Key\n",
    "OMDB_API_KEY = \"c0c5b16c\"\n",
    "\n",
    "# fetch movie data from omdb\n",
    "def fetch_omdb_data(title):\n",
    "    headers = {\n",
    "        \"User-Agent\": (\n",
    "            \"Mozilla/5.0 (Windows NT 10.0; Win64; x64) AppleWebKit/537.36 \"\n",
    "            \"(KHTML, like Gecko) Chrome/120.0.0.0 Safari/537.36\"\n",
    "        )\n",
    "    }\n",
    "    try:\n",
    "        # request data from OMDP API\n",
    "        response = requests.get(url, headers=headers)\n",
    "        response.raise_for_status()\n",
    "        data = response.json()\n",
    "        if data.get(\"Response\") == \"True\":\n",
    "            return {\n",
    "                \"title\": data.get(\"Title\", \"\"),\n",
    "                \"year\": data.get(\"Year\", \"\"),\n",
    "                \"rated\": data.get(\"Rated\", \"\"),\n",
    "                \"runtime\": data.get(\"Runtime\", \"\"),\n",
    "                \"imdb_rating\": data.get(\"imdbRating\", \"\"),\n",
    "                \"imdb_votes\": data.get(\"imdbVotes\", \"\"),\n",
    "                \"box_office\": data.get(\"BoxOffice\", \"\"),\n",
    "                \"released\": data.get(\"Released\", \"\"),\n",
    "                \"genre\": data.get(\"Genre\", \"\"),\n",
    "                \"director\": data.get(\"Director\", \"\"),\n",
    "                \"writer\": data.get(\"Writer\", \"\"),\n",
    "                \"actors\": data.get(\"Actors\", \"\"),\n",
    "                \"plot\": data.get(\"Plot\", \"\"),\n",
    "                \"language\": data.get(\"Language\", \"\"),\n",
    "                \"country\": data.get(\"Country\", \"\"),\n",
    "                \"awards\": data.get(\"Awards\", \"\"),\n",
    "                \"poster\": data.get(\"Poster\", \"\"),\n",
    "                \"metascore\": data.get(\"Metascore\", \"\"),\n",
    "                \"ratings\": data.get(\"Ratings\", \"\")\n",
    "            }\n",
    "        return {\"error\": data.get(\"Error\", \"Unknown error occurred\")}\n",
    "    # handle errors\n",
    "    except requests.RequestException as e:\n",
    "        return {\"error\": f\"Request failed: {str(e)}\"}"
   ]
  },
  {
   "cell_type": "code",
   "execution_count": null,
   "id": "217a3201-5318-41fe-96ce-ca3073cd5825",
   "metadata": {},
   "outputs": [],
   "source": []
  }
 ],
 "metadata": {
  "kernelspec": {
   "display_name": "Python 3 (ipykernel)",
   "language": "python",
   "name": "python3"
  },
  "language_info": {
   "codemirror_mode": {
    "name": "ipython",
    "version": 3
   },
   "file_extension": ".py",
   "mimetype": "text/x-python",
   "name": "python",
   "nbconvert_exporter": "python",
   "pygments_lexer": "ipython3",
   "version": "3.11.3"
  }
 },
 "nbformat": 4,
 "nbformat_minor": 5
}

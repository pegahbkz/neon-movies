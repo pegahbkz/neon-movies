{
 "cells": [
  {
   "cell_type": "markdown",
   "id": "f0dcb5bb-e7c8-40e0-8212-31de90c70dc5",
   "metadata": {
    "tags": []
   },
   "source": [
    "# Neon Films Audience Preference Analysis"
   ]
  },
  {
   "cell_type": "markdown",
   "id": "066ea8f5-d024-4e52-a0a1-cf7e4819c66a",
   "metadata": {},
   "source": [
    "## Data Collection"
   ]
  },
  {
   "cell_type": "code",
   "execution_count": 38,
   "id": "2fbf99b6-b6da-4cbe-961d-92f78712824d",
   "metadata": {
    "tags": []
   },
   "outputs": [],
   "source": [
    "import requests\n",
    "import time\n",
    "\n",
    "# OMDB API Key\n",
    "OMDB_API_KEY = \"c0c5b16c\"\n",
    "\n",
    "# fetch movie data from omdb\n",
    "def fetch_omdb_data(title):\n",
    "    headers = {\n",
    "        \"User-Agent\": (\n",
    "            \"Mozilla/5.0 (Windows NT 10.0; Win64; x64) AppleWebKit/537.36 \"\n",
    "            \"(KHTML, like Gecko) Chrome/120.0.0.0 Safari/537.36\"\n",
    "        )\n",
    "    }\n",
    "    url = f\"http://www.omdbapi.com/?t={title}&apikey={OMDB_API_KEY}\"\n",
    "    try:\n",
    "        # request data from OMDP API\n",
    "        response = requests.get(url, headers=headers)\n",
    "        response.raise_for_status()\n",
    "        data = response.json()\n",
    "        if data.get(\"Response\") == \"True\":\n",
    "            return {\n",
    "                \"Title\": data.get(\"Title\", \"\"),\n",
    "                \"Year\": data.get(\"Year\", \"\"),\n",
    "                \"Rated\": data.get(\"Rated\", \"\"),\n",
    "                \"Runtime\": data.get(\"Runtime\", \"\"),\n",
    "                \"imdbRating\": data.get(\"imdbRating\", \"\"),\n",
    "                \"imdbVotes\": data.get(\"imdbVotes\", \"\"),\n",
    "                \"BoxOffice\": data.get(\"BoxOffice\", \"\"),\n",
    "                \"Released\": data.get(\"Released\", \"\"),\n",
    "                \"Genre\": data.get(\"Genre\", \"\"),\n",
    "                \"Director\": data.get(\"Director\", \"\"),\n",
    "                \"Writer\": data.get(\"Writer\", \"\"),\n",
    "                \"Actors\": data.get(\"Actors\", \"\"),\n",
    "                \"Plot\": data.get(\"Plot\", \"\"),\n",
    "                \"Language\": data.get(\"Language\", \"\"),\n",
    "                \"Country\": data.get(\"Country\", \"\"),\n",
    "                \"Awards\": data.get(\"Awards\", \"\"),\n",
    "                \"Poster\": data.get(\"Poster\", \"\"),\n",
    "                \"Metascore\": data.get(\"Metascore\", \"\"),\n",
    "                \"Ratings\": data.get(\"Ratings\", \"\")\n",
    "            }\n",
    "        return {\"error\": data.get(\"Error\", \"Unknown error occurred\")}\n",
    "    # handle errors\n",
    "    except requests.RequestException as e:\n",
    "        return {\"error\": f\"Request failed: {str(e)}\"}"
   ]
  },
  {
   "cell_type": "code",
   "execution_count": 39,
   "id": "217a3201-5318-41fe-96ce-ca3073cd5825",
   "metadata": {
    "tags": []
   },
   "outputs": [],
   "source": [
    "from trendspy import Trends\n",
    "from datetime import datetime, timedelta\n",
    "from dateutil.relativedelta import relativedelta\n",
    "\n",
    "# initialize trendsPy\n",
    "tr = Trends(request_delay=10.0)\n",
    "\n",
    "# fetch movie data from google trends\n",
    "def fetch_googletrends_data(movie):\n",
    "    # get movie title and release date\n",
    "    title = movie[\"Title\"].replace(\":\", \"\")\n",
    "    release_date = movie[\"Released\"]\n",
    "    \n",
    "    # convert release date to datetime format\n",
    "    release_datetime = datetime.strptime(release_date, \"%d %b %Y\")\n",
    "    # get date for one year later\n",
    "    one_year_later = release_datetime + relativedelta(years=1)\n",
    "    one_year_later_strftime = one_year_later.strftime(\"%Y-%m-%d\")\n",
    "\n",
    "    # timeframe string\n",
    "    timeframe = f'{one_year_later_strftime} 1-y'\n",
    "    \n",
    "    try:\n",
    "        # get number of movie searches\n",
    "        interest_data = tr.interest_over_time(title, timeframe=timeframe)\n",
    "        if not interest_data.empty:\n",
    "            # get total number of searches in timeframe\n",
    "            total_searches = interest_data[title].sum()\n",
    "            return total_searches\n",
    "        else:\n",
    "            return None\n",
    "    except Exception as e:\n",
    "        print(f\"Error fetching data for '{title}': {e}\")\n",
    "        return None"
   ]
  },
  {
   "cell_type": "code",
   "execution_count": 40,
   "id": "8471762c-6303-44bc-a222-baa6ea2add10",
   "metadata": {
    "tags": []
   },
   "outputs": [],
   "source": [
    "import pandas as pd\n",
    "from tqdm import tqdm\n",
    "import time\n",
    "\n",
    "# load movie list\n",
    "movies_path = \"data/movies.xlsx\"\n",
    "movies_list = pd.read_excel(movies_path)\n",
    "\n",
    "# store fetched data\n",
    "omdb_cache = {}\n",
    "googletrends_cache = {}"
   ]
  },
  {
   "cell_type": "code",
   "execution_count": 41,
   "id": "f2c10dff-a4f2-4328-9790-ba2c3be6d1b8",
   "metadata": {
    "tags": []
   },
   "outputs": [
    {
     "name": "stderr",
     "output_type": "stream",
     "text": [
      "Fetching OMDB Data: 100%|█████████████████████| 150/150 [02:42<00:00,  1.08s/it]\n"
     ]
    }
   ],
   "source": [
    "# store data for each movie\n",
    "omdb_data_list = []\n",
    "# fetch omdb data for movie list\n",
    "for row_index, row in tqdm(movies_list.iterrows(), total=len(movies_list), desc=\"Fetching OMDB Data\"):\n",
    "    title = row[\"title\"]\n",
    "    movie_id = row_index\n",
    "    # check if data has already been fetched\n",
    "    if movie_id in omdb_cache:\n",
    "        omdb_data = omdb_cache[movie_id]\n",
    "    else:\n",
    "        omdb_data = fetch_omdb_data(title)\n",
    "        time.sleep(1)\n",
    "    if omdb_data:\n",
    "        omdb_data[\"ID\"] = movie_id\n",
    "        omdb_cache[movie_id] = omdb_data\n",
    "        omdb_data_list.append(omdb_data)\n",
    "    else:\n",
    "        continue\n",
    "omdb_df = pd.DataFrame(omdb_data_list)"
   ]
  },
  {
   "cell_type": "code",
   "execution_count": 43,
   "id": "f502c1b7-442b-4e58-9441-aaec42eea7bb",
   "metadata": {
    "tags": []
   },
   "outputs": [
    {
     "name": "stderr",
     "output_type": "stream",
     "text": [
      "Fetching Google Trends Data: 100%|██████████████| 94/94 [00:10<00:00,  9.31it/s]\n"
     ]
    }
   ],
   "source": [
    "omdb_df_after_2006 = omdb_df[omdb_df[\"Year\"].astype(int) >= 2006]\n",
    "# store data for each movie\n",
    "googletrends_data_list = []\n",
    "# fetch googletrends data for movie list\n",
    "for row_index, row in tqdm(omdb_df_after_2006.iterrows(), total=len(omdb_df_after_2006), desc=\"Fetching Google Trends Data\"):\n",
    "    title = row[\"Title\"]\n",
    "    release_date = row[\"Released\"]\n",
    "    movie_id = row[\"ID\"]\n",
    "    # check if data has already been fetched\n",
    "    if movie_id in googletrends_cache:\n",
    "        googletrends_data = googletrends_cache[movie_id]\n",
    "    else:\n",
    "        googletrends_data = fetch_googletrends_data(row)\n",
    "    if googletrends_data:\n",
    "        googletrends_cache[movie_id] = googletrends_data\n",
    "        googletrends_data_list.append({\"ID\": movie_id, \"GoogleSearches\": googletrends_data})\n",
    "    else:\n",
    "        continue     \n",
    "googletrends_df = pd.DataFrame(googletrends_data_list)"
   ]
  },
  {
   "cell_type": "code",
   "execution_count": 48,
   "id": "0ef096d4-42e5-48ba-bf03-ae0d6d599630",
   "metadata": {
    "tags": []
   },
   "outputs": [],
   "source": [
    "# save data to csv file\n",
    "merged_df = omdb_df.merge(googletrends_df, on=\"ID\", how=\"left\")\n",
    "merged_df.fillna(\"N/A\", inplace=True)\n",
    "merged_df.to_csv(\"data/merged_movies.csv\", index=False)"
   ]
  },
  {
   "cell_type": "markdown",
   "id": "bf4ea89f-2055-4025-a96a-858d8f37be67",
   "metadata": {},
   "source": [
    "## Data Cleaning and Preperation"
   ]
  },
  {
   "cell_type": "code",
   "execution_count": 103,
   "id": "46211afd-e220-4fcc-8586-b6e9c5cdd871",
   "metadata": {
    "tags": []
   },
   "outputs": [],
   "source": [
    "# create new dataframe for movies in each genre\n",
    "df_genre_exploded = merged_df.assign(Genre=merged_df['Genre'].str.split(',')).explode('Genre')\n",
    "genre_df = df_genre_exploded.groupby('Genre')['ID'].apply(list).reset_index()\n",
    "genre_df.to_csv(\"data/movies_bygenre.csv\", index=False)"
   ]
  },
  {
   "cell_type": "code",
   "execution_count": 104,
   "id": "f0f691d5-8d35-406c-81fc-2be67efe278a",
   "metadata": {
    "tags": []
   },
   "outputs": [],
   "source": [
    "# create new dataframe for movies in each language\n",
    "df_country_exploded = merged_df.assign(Country=merged_df['Country'].str.split(',')).explode('Country')\n",
    "country_df = df_country_exploded.groupby('Country')['ID'].apply(list).reset_index()\n",
    "country_df.to_csv(\"data/movies_bycountry.csv\", index=False)"
   ]
  },
  {
   "cell_type": "code",
   "execution_count": 105,
   "id": "23f3ae4f-8eb0-4f44-8f1a-f35ed949e4ba",
   "metadata": {
    "tags": []
   },
   "outputs": [],
   "source": [
    "import re\n",
    "\n",
    "def transform_data(df):\n",
    "    df = df.replace('N/A', pd.NA)\n",
    "    \n",
    "    df[\"Title\"] = df[\"Title\"].str.title()\n",
    "    df[\"Year\"] = pd.to_numeric(df[\"Year\"], errors='coerce')\n",
    "    \n",
    "    df[\"Rated\"] = df[\"Rated\"].fillna('Not Rated')\n",
    "    rating_map = {\n",
    "    'R': 'R', 'NC-17': 'R', 'TV-MA': 'R',\n",
    "    'PG': 'PG', 'PG-13': 'PG', 'TV-PG': 'PG', 'TV-14': 'PG',\n",
    "    'TV-G': 'G', 'Approved': 'G', 'G': 'G',\n",
    "    'Not Rated': 'Not Rated', 'Unrated': 'Not Rated'}\n",
    "    df[\"Rated\"] = df[\"Rated\"].map(rating_map)\n",
    "    \n",
    "    df[\"Runtime\"] = df[\"Runtime\"].fillna(\"\")\n",
    "    df[\"Runtime\"] = df[\"Runtime\"].str.replace(\" min\", \"\")\n",
    "    df[\"Runtime\"] = pd.to_numeric(df[\"Runtime\"], errors='coerce')\n",
    "    \n",
    "    df[\"imdbRating\"] = pd.to_numeric(df[\"imdbRating\"], errors='coerce')\n",
    "    df[\"imdbVotes\"] = pd.to_numeric(df[\"imdbVotes\"].str.replace(',', ''), errors='coerce')\n",
    "    df[\"BoxOffice\"] = pd.to_numeric(df[\"BoxOffice\"].str.replace(\"$\", \"\").str.replace(',', ''), errors='coerce')\n",
    "    df[\"Released\"] = pd.to_datetime(df[\"Released\"], format=\"%d %b %Y\", errors='coerce')\n",
    "    \n",
    "    df = df.drop(columns=[\"Genre\", \"Director\", \"Writer\", \"Actors\", \"Plot\", \"Language\", \"Country\"], axis=1)\n",
    "    \n",
    "    df[\"Awards\"] = df[\"Awards\"].apply(\n",
    "        lambda x: sum(map(int, re.findall(r'\\d+', x))) if isinstance(x, str) and re.search(r'\\d', x) else pd.NA\n",
    "    )\n",
    "    \n",
    "    df = df.drop(\"Poster\", axis=1)\n",
    "    \n",
    "    df[\"Metascore\"] = pd.to_numeric(df[\"Metascore\"], errors='coerce')\n",
    "    df[\"RTScore\"] = df['Ratings'].apply(lambda x: next((item['Value'] for item in x if item['Source'] == 'Rotten Tomatoes'), pd.NA))\n",
    "    df[\"RTScore\"] = pd.to_numeric(df[\"RTScore\"].str.replace('%', ''), errors='coerce')\n",
    "    \n",
    "    df = df.drop(\"Ratings\", axis=1)\n",
    "    \n",
    "    df[\"GoogleSearches\"] = pd.to_numeric(df[\"GoogleSearches\"], errors='coerce')\n",
    "    df[\"Month\"] = df[\"Released\"].dt.month\n",
    "    \n",
    "    df[\"AvgRating\"] = df.apply(\n",
    "    lambda row: np.nanmean([row[\"imdbRating\"] * 10, row['Metascore'], row['RTScore']]), axis=1)\n",
    "\n",
    "    return df"
   ]
  },
  {
   "cell_type": "code",
   "execution_count": 106,
   "id": "b49b1ce5-ee09-4370-91d7-46a1b7b80680",
   "metadata": {
    "tags": []
   },
   "outputs": [],
   "source": [
    "movies_df = transform_data(merged_df)\n",
    "movies_df.to_csv(\"data/transformed_movies.csv\", index=False)"
   ]
  },
  {
   "cell_type": "code",
   "execution_count": null,
   "id": "f2a0876e-f6d6-4649-8296-d201d983cfa1",
   "metadata": {},
   "outputs": [],
   "source": []
  }
 ],
 "metadata": {
  "kernelspec": {
   "display_name": "Python 3 (ipykernel)",
   "language": "python",
   "name": "python3"
  },
  "language_info": {
   "codemirror_mode": {
    "name": "ipython",
    "version": 3
   },
   "file_extension": ".py",
   "mimetype": "text/x-python",
   "name": "python",
   "nbconvert_exporter": "python",
   "pygments_lexer": "ipython3",
   "version": "3.11.3"
  }
 },
 "nbformat": 4,
 "nbformat_minor": 5
}

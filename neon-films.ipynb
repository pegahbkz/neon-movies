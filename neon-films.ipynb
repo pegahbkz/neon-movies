{
 "cells": [
  {
   "cell_type": "markdown",
   "id": "f0dcb5bb-e7c8-40e0-8212-31de90c70dc5",
   "metadata": {
    "tags": []
   },
   "source": [
    "# Neon Films Audience Preference Analysis"
   ]
  },
  {
   "cell_type": "markdown",
   "id": "066ea8f5-d024-4e52-a0a1-cf7e4819c66a",
   "metadata": {},
   "source": [
    "## Data Collection"
   ]
  },
  {
   "cell_type": "code",
   "execution_count": 5,
   "id": "2fbf99b6-b6da-4cbe-961d-92f78712824d",
   "metadata": {
    "tags": []
   },
   "outputs": [],
   "source": [
    "import requests\n",
    "import time\n",
    "\n",
    "# OMDB API Key\n",
    "OMDB_API_KEY = \"c0c5b16c\"\n",
    "\n",
    "# fetch movie data from omdb\n",
    "def fetch_omdb_data(title):\n",
    "    headers = {\n",
    "        \"User-Agent\": (\n",
    "            \"Mozilla/5.0 (Windows NT 10.0; Win64; x64) AppleWebKit/537.36 \"\n",
    "            \"(KHTML, like Gecko) Chrome/120.0.0.0 Safari/537.36\"\n",
    "        )\n",
    "    }\n",
    "    try:\n",
    "        # request data from OMDP API\n",
    "        response = requests.get(url, headers=headers)\n",
    "        response.raise_for_status()\n",
    "        data = response.json()\n",
    "        if data.get(\"Response\") == \"True\":\n",
    "            return {\n",
    "                \"Title\": data.get(\"Title\", \"\"),\n",
    "                \"Year\": data.get(\"Year\", \"\"),\n",
    "                \"Rated\": data.get(\"Rated\", \"\"),\n",
    "                \"Runtime\": data.get(\"Runtime\", \"\"),\n",
    "                \"imdbRating\": data.get(\"imdbRating\", \"\"),\n",
    "                \"imdbVotes\": data.get(\"imdbVotes\", \"\"),\n",
    "                \"BoxOffice\": data.get(\"BoxOffice\", \"\"),\n",
    "                \"Released\": data.get(\"Released\", \"\"),\n",
    "                \"Genre\": data.get(\"Genre\", \"\"),\n",
    "                \"Director\": data.get(\"Director\", \"\"),\n",
    "                \"Writer\": data.get(\"Writer\", \"\"),\n",
    "                \"Actors\": data.get(\"Actors\", \"\"),\n",
    "                \"Plot\": data.get(\"Plot\", \"\"),\n",
    "                \"Language\": data.get(\"Language\", \"\"),\n",
    "                \"Country\": data.get(\"Country\", \"\"),\n",
    "                \"Awards\": data.get(\"Awards\", \"\"),\n",
    "                \"Poster\": data.get(\"Poster\", \"\"),\n",
    "                \"Metascore\": data.get(\"Metascore\", \"\"),\n",
    "                \"Ratings\": data.get(\"Ratings\", \"\")\n",
    "            }\n",
    "        return {\"error\": data.get(\"Error\", \"Unknown error occurred\")}\n",
    "    # handle errors\n",
    "    except requests.RequestException as e:\n",
    "        return {\"error\": f\"Request failed: {str(e)}\"}"
   ]
  },
  {
   "cell_type": "code",
   "execution_count": 7,
   "id": "217a3201-5318-41fe-96ce-ca3073cd5825",
   "metadata": {
    "tags": []
   },
   "outputs": [],
   "source": [
    "from trendspy import Trends\n",
    "from datetime import datetime, timedelta\n",
    "from dateutil.relativedelta import relativedelta\n",
    "\n",
    "# initialize trendsPy\n",
    "tr = Trends(request_delay=10.0)\n",
    "\n",
    "# fetch movie data from google trends\n",
    "def fetch_googletrends_data(movie):\n",
    "    # get movie title and release date\n",
    "    title = movie[\"Title\"].replace(\":\", \"\")\n",
    "    title = movie[\"Released\"]\n",
    "    \n",
    "    # convert release date to datetime format\n",
    "    release_datetime = datetime.strptime(release_date, \"%d %b %Y\")\n",
    "    # get date for one year later\n",
    "    one_year_later = release_datetime + relativedelta(years=1)\n",
    "    one_year_later_strftime = one_year_later.strftime(\"%Y-%m-%d\")\n",
    "\n",
    "    # timeframe string\n",
    "    timeframe = f'{one_year_later_strftime} 1-y'\n",
    "    \n",
    "    try:\n",
    "        # get number of movie searches\n",
    "        interest_data = tr.interest_over_time(movie_title, timeframe=timeframe)\n",
    "        if not interest_data.empty:\n",
    "            # get total number of searches in timeframe\n",
    "            total_searches = interest_data[movie_title].sum()\n",
    "            return total_searches\n",
    "        else:\n",
    "            return -1\n",
    "    except Exception as e:\n",
    "        print(f\"Error fetching data for '{movie_title}': {e}\")\n",
    "        return -1"
   ]
  },
  {
   "cell_type": "code",
   "execution_count": null,
   "id": "f2c10dff-a4f2-4328-9790-ba2c3be6d1b8",
   "metadata": {},
   "outputs": [],
   "source": [
    "# load movie list"
   ]
  }
 ],
 "metadata": {
  "kernelspec": {
   "display_name": "Python 3 (ipykernel)",
   "language": "python",
   "name": "python3"
  },
  "language_info": {
   "codemirror_mode": {
    "name": "ipython",
    "version": 3
   },
   "file_extension": ".py",
   "mimetype": "text/x-python",
   "name": "python",
   "nbconvert_exporter": "python",
   "pygments_lexer": "ipython3",
   "version": "3.11.3"
  }
 },
 "nbformat": 4,
 "nbformat_minor": 5
}

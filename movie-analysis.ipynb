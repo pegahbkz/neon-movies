{
 "cells": [
  {
   "cell_type": "code",
   "execution_count": 6,
   "id": "1852011b-f2bf-4380-91e0-52d23eba2dc4",
   "metadata": {
    "tags": []
   },
   "outputs": [
    {
     "data": {
      "text/html": [
       "<div>\n",
       "<style scoped>\n",
       "    .dataframe tbody tr th:only-of-type {\n",
       "        vertical-align: middle;\n",
       "    }\n",
       "\n",
       "    .dataframe tbody tr th {\n",
       "        vertical-align: top;\n",
       "    }\n",
       "\n",
       "    .dataframe thead th {\n",
       "        text-align: right;\n",
       "    }\n",
       "</style>\n",
       "<table border=\"1\" class=\"dataframe\">\n",
       "  <thead>\n",
       "    <tr style=\"text-align: right;\">\n",
       "      <th></th>\n",
       "      <th>title</th>\n",
       "    </tr>\n",
       "  </thead>\n",
       "  <tbody>\n",
       "    <tr>\n",
       "      <th>0</th>\n",
       "      <td>The Age of Adaline</td>\n",
       "    </tr>\n",
       "    <tr>\n",
       "      <th>1</th>\n",
       "      <td>Black Christmas</td>\n",
       "    </tr>\n",
       "    <tr>\n",
       "      <th>2</th>\n",
       "      <td>London</td>\n",
       "    </tr>\n",
       "    <tr>\n",
       "      <th>3</th>\n",
       "      <td>Twisted</td>\n",
       "    </tr>\n",
       "    <tr>\n",
       "      <th>4</th>\n",
       "      <td>Friends with Kids</td>\n",
       "    </tr>\n",
       "  </tbody>\n",
       "</table>\n",
       "</div>"
      ],
      "text/plain": [
       "                title\n",
       "0  The Age of Adaline\n",
       "1     Black Christmas\n",
       "2              London\n",
       "3             Twisted\n",
       "4   Friends with Kids"
      ]
     },
     "execution_count": 6,
     "metadata": {},
     "output_type": "execute_result"
    }
   ],
   "source": [
    "import pandas as pd\n",
    "\n",
    "# load excel file\n",
    "df = pd.read_excel(\"movies.xlsx\")\n",
    "df.head()"
   ]
  },
  {
   "cell_type": "code",
   "execution_count": 7,
   "id": "3f5cfc7d-002c-46e6-8a90-2c213d0df036",
   "metadata": {
    "tags": []
   },
   "outputs": [],
   "source": [
    "import requests\n",
    "import time\n",
    "\n",
    "OMDB_API_KEY = \"c0c5b16c\""
   ]
  },
  {
   "cell_type": "code",
   "execution_count": 9,
   "id": "cc2e1de0-9bfd-4017-84f9-cad79ed3f133",
   "metadata": {
    "tags": []
   },
   "outputs": [],
   "source": [
    "# function to get movie data from omdp\n",
    "def get_omdp_data(title):\n",
    "    url = f\"http://www.omdbapi.com/?t={title}&apikey={OMDB_API_KEY}\"\n",
    "    response = requests.get(url)\n",
    "    data = response.json()\n",
    "    \n",
    "    if data.get(\"Response\") == \"True\":\n",
    "        return {\n",
    "            \"Title\": data.get(\"Title\"),\n",
    "            \"Year\": data.get(\"Year\"),\n",
    "            \"Rated\": data.get(\"Rated\"),\n",
    "            \"Runtime\": data.get(\"Runtime\"),\n",
    "            \"IMDB_Rating\": data.get(\"imdbRating\"),\n",
    "            \"IMDB_Votes\": data.get(\"imdbVotes\"),\n",
    "            \"Box_Office\": data.get(\"BoxOffice\"),\n",
    "            \"Released\": data.get(\"Released\"),\n",
    "            \"Genre\": data.get(\"Genre\"),\n",
    "            \"Director\": data.get(\"Director\"),\n",
    "            \"Writer\": data.get(\"Writer\"),\n",
    "            \"Actors\": data.get(\"Actors\"),\n",
    "            \"Plot\": data.get(\"Plot\"),\n",
    "            \"Language\": data.get(\"Language\"),\n",
    "            \"Country\": data.get(\"Country\"),\n",
    "            \"Awards\": data.get(\"Awards\"),\n",
    "            \"Poster\": data.get(\"Poster\"),\n",
    "            \"Metascore\": data.get(\"Metascore\"),\n",
    "            \"Ratings\": data.get(\"Ratings\")\n",
    "        }\n",
    "    else:\n",
    "        return None"
   ]
  },
  {
   "cell_type": "code",
   "execution_count": 15,
   "id": "5ffa64fe-33fe-43a7-830c-9e4fa7eb2c8e",
   "metadata": {
    "tags": []
   },
   "outputs": [
    {
     "data": {
      "text/plain": [
       "{'Title': 'Inception',\n",
       " 'Year': '2010',\n",
       " 'Rated': 'PG-13',\n",
       " 'Runtime': '148 min',\n",
       " 'IMDB_Rating': '8.8',\n",
       " 'IMDB_Votes': '2,645,456',\n",
       " 'Box_Office': '$292,587,330',\n",
       " 'Released': '16 Jul 2010',\n",
       " 'Genre': 'Action, Adventure, Sci-Fi',\n",
       " 'Director': 'Christopher Nolan',\n",
       " 'Writer': 'Christopher Nolan',\n",
       " 'Actors': 'Leonardo DiCaprio, Joseph Gordon-Levitt, Elliot Page',\n",
       " 'Plot': 'A thief who steals corporate secrets through the use of dream-sharing technology is given the inverse task of planting an idea into the mind of a C.E.O., but his tragic past may doom the project and his team to disaster.',\n",
       " 'Language': 'English, Japanese, French',\n",
       " 'Country': 'United States, United Kingdom',\n",
       " 'Awards': 'Won 4 Oscars. 159 wins & 220 nominations total',\n",
       " 'Poster': 'https://m.media-amazon.com/images/M/MV5BMjAxMzY3NjcxNF5BMl5BanBnXkFtZTcwNTI5OTM0Mw@@._V1_SX300.jpg',\n",
       " 'Metascore': '74',\n",
       " 'Ratings': [{'Source': 'Internet Movie Database', 'Value': '8.8/10'},\n",
       "  {'Source': 'Rotten Tomatoes', 'Value': '87%'},\n",
       "  {'Source': 'Metacritic', 'Value': '74/100'}]}"
      ]
     },
     "execution_count": 15,
     "metadata": {},
     "output_type": "execute_result"
    }
   ],
   "source": [
    "# get_omdp_data test\n",
    "get_omdp_data(\"inception\")"
   ]
  },
  {
   "cell_type": "code",
   "execution_count": null,
   "id": "4a69e185-a546-4504-a6cd-f8c4d4e1ef26",
   "metadata": {},
   "outputs": [],
   "source": []
  }
 ],
 "metadata": {
  "kernelspec": {
   "display_name": "Python 3 (ipykernel)",
   "language": "python",
   "name": "python3"
  },
  "language_info": {
   "codemirror_mode": {
    "name": "ipython",
    "version": 3
   },
   "file_extension": ".py",
   "mimetype": "text/x-python",
   "name": "python",
   "nbconvert_exporter": "python",
   "pygments_lexer": "ipython3",
   "version": "3.11.3"
  }
 },
 "nbformat": 4,
 "nbformat_minor": 5
}

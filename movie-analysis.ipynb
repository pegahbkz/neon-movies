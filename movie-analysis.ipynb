{
 "cells": [
  {
   "cell_type": "code",
   "execution_count": 6,
   "id": "1852011b-f2bf-4380-91e0-52d23eba2dc4",
   "metadata": {
    "tags": []
   },
   "outputs": [
    {
     "data": {
      "text/html": [
       "<div>\n",
       "<style scoped>\n",
       "    .dataframe tbody tr th:only-of-type {\n",
       "        vertical-align: middle;\n",
       "    }\n",
       "\n",
       "    .dataframe tbody tr th {\n",
       "        vertical-align: top;\n",
       "    }\n",
       "\n",
       "    .dataframe thead th {\n",
       "        text-align: right;\n",
       "    }\n",
       "</style>\n",
       "<table border=\"1\" class=\"dataframe\">\n",
       "  <thead>\n",
       "    <tr style=\"text-align: right;\">\n",
       "      <th></th>\n",
       "      <th>title</th>\n",
       "    </tr>\n",
       "  </thead>\n",
       "  <tbody>\n",
       "    <tr>\n",
       "      <th>0</th>\n",
       "      <td>The Age of Adaline</td>\n",
       "    </tr>\n",
       "    <tr>\n",
       "      <th>1</th>\n",
       "      <td>Black Christmas</td>\n",
       "    </tr>\n",
       "    <tr>\n",
       "      <th>2</th>\n",
       "      <td>London</td>\n",
       "    </tr>\n",
       "    <tr>\n",
       "      <th>3</th>\n",
       "      <td>Twisted</td>\n",
       "    </tr>\n",
       "    <tr>\n",
       "      <th>4</th>\n",
       "      <td>Friends with Kids</td>\n",
       "    </tr>\n",
       "  </tbody>\n",
       "</table>\n",
       "</div>"
      ],
      "text/plain": [
       "                title\n",
       "0  The Age of Adaline\n",
       "1     Black Christmas\n",
       "2              London\n",
       "3             Twisted\n",
       "4   Friends with Kids"
      ]
     },
     "execution_count": 6,
     "metadata": {},
     "output_type": "execute_result"
    }
   ],
   "source": [
    "import pandas as pd\n",
    "\n",
    "# load excel file\n",
    "df = pd.read_excel(\"movies.xlsx\")\n",
    "df.head()"
   ]
  },
  {
   "cell_type": "code",
   "execution_count": 22,
   "id": "7bb3bbac-c5a9-46b3-aec1-bf5651607ec2",
   "metadata": {
    "tags": []
   },
   "outputs": [
    {
     "name": "stdout",
     "output_type": "stream",
     "text": [
      "Number of rows: 150\n"
     ]
    }
   ],
   "source": [
    "print('Number of rows:', df.size)"
   ]
  },
  {
   "cell_type": "code",
   "execution_count": 7,
   "id": "3f5cfc7d-002c-46e6-8a90-2c213d0df036",
   "metadata": {
    "tags": []
   },
   "outputs": [],
   "source": [
    "# initialize omdb\n",
    "import requests\n",
    "import time\n",
    "\n",
    "OMDB_API_KEY = \"c0c5b16c\""
   ]
  },
  {
   "cell_type": "code",
   "execution_count": 17,
   "id": "cc2e1de0-9bfd-4017-84f9-cad79ed3f133",
   "metadata": {
    "tags": []
   },
   "outputs": [],
   "source": [
    "# function to get movie data from omdp\n",
    "def get_omdb_data(title):\n",
    "    url = f\"http://www.omdbapi.com/?t={title}&apikey={OMDB_API_KEY}\"\n",
    "    response = requests.get(url)\n",
    "    data = response.json()\n",
    "    \n",
    "    if data.get(\"Response\") == \"True\":\n",
    "        return {\n",
    "            \"Title\": data.get(\"Title\"),\n",
    "            \"Year\": data.get(\"Year\"),\n",
    "            \"Rated\": data.get(\"Rated\"),\n",
    "            \"Runtime\": data.get(\"Runtime\"),\n",
    "            \"IMDB_Rating\": data.get(\"imdbRating\"),\n",
    "            \"IMDB_Votes\": data.get(\"imdbVotes\"),\n",
    "            \"Box_Office\": data.get(\"BoxOffice\"),\n",
    "            \"Released\": data.get(\"Released\"),\n",
    "            \"Genre\": data.get(\"Genre\"),\n",
    "            \"Director\": data.get(\"Director\"),\n",
    "            \"Writer\": data.get(\"Writer\"),\n",
    "            \"Actors\": data.get(\"Actors\"),\n",
    "            \"Plot\": data.get(\"Plot\"),\n",
    "            \"Language\": data.get(\"Language\"),\n",
    "            \"Country\": data.get(\"Country\"),\n",
    "            \"Awards\": data.get(\"Awards\"),\n",
    "            \"Poster\": data.get(\"Poster\"),\n",
    "            \"Metascore\": data.get(\"Metascore\"),\n",
    "            \"Ratings\": data.get(\"Ratings\")\n",
    "        }\n",
    "    else:\n",
    "        return None"
   ]
  },
  {
   "cell_type": "code",
   "execution_count": 21,
   "id": "5ffa64fe-33fe-43a7-830c-9e4fa7eb2c8e",
   "metadata": {
    "tags": []
   },
   "outputs": [
    {
     "data": {
      "text/plain": [
       "{'Title': 'Inception',\n",
       " 'Year': '2010',\n",
       " 'Rated': 'PG-13',\n",
       " 'Runtime': '148 min',\n",
       " 'IMDB_Rating': '8.8',\n",
       " 'IMDB_Votes': '2,645,456',\n",
       " 'Box_Office': '$292,587,330',\n",
       " 'Released': '16 Jul 2010',\n",
       " 'Genre': 'Action, Adventure, Sci-Fi',\n",
       " 'Director': 'Christopher Nolan',\n",
       " 'Writer': 'Christopher Nolan',\n",
       " 'Actors': 'Leonardo DiCaprio, Joseph Gordon-Levitt, Elliot Page',\n",
       " 'Plot': 'A thief who steals corporate secrets through the use of dream-sharing technology is given the inverse task of planting an idea into the mind of a C.E.O., but his tragic past may doom the project and his team to disaster.',\n",
       " 'Language': 'English, Japanese, French',\n",
       " 'Country': 'United States, United Kingdom',\n",
       " 'Awards': 'Won 4 Oscars. 159 wins & 220 nominations total',\n",
       " 'Poster': 'https://m.media-amazon.com/images/M/MV5BMjAxMzY3NjcxNF5BMl5BanBnXkFtZTcwNTI5OTM0Mw@@._V1_SX300.jpg',\n",
       " 'Metascore': '74',\n",
       " 'Ratings': [{'Source': 'Internet Movie Database', 'Value': '8.8/10'},\n",
       "  {'Source': 'Rotten Tomatoes', 'Value': '87%'},\n",
       "  {'Source': 'Metacritic', 'Value': '74/100'}]}"
      ]
     },
     "execution_count": 21,
     "metadata": {},
     "output_type": "execute_result"
    }
   ],
   "source": [
    "# get_omdp_data test\n",
    "get_omdb_data(\"inception\")"
   ]
  },
  {
   "cell_type": "code",
   "execution_count": 24,
   "id": "4a69e185-a546-4504-a6cd-f8c4d4e1ef26",
   "metadata": {
    "tags": []
   },
   "outputs": [
    {
     "name": "stdout",
     "output_type": "stream",
     "text": [
      "Getting data of movie 1/150: The Age of Adaline\n",
      "Getting data of movie 2/150: Black Christmas\n",
      "Getting data of movie 3/150: London\n",
      "Getting data of movie 4/150: Twisted\n",
      "Getting data of movie 5/150: Friends with Kids\n",
      "Getting data of movie 6/150: Ken Park\n",
      "Getting data of movie 7/150: Girls Trip\n",
      "Getting data of movie 8/150: The Art of the Steal\n",
      "Getting data of movie 9/150: Macbeth\n",
      "Getting data of movie 10/150: Fatherhood\n",
      "Getting data of movie 11/150: London Has Fallen\n",
      "Getting data of movie 12/150: Anthropoid\n",
      "Getting data of movie 13/150: Me, Myself & Irene\n",
      "Getting data of movie 14/150: The Last Face\n",
      "Getting data of movie 15/150: The Fly\n",
      "Getting data of movie 16/150: A Quiet Place\n",
      "Getting data of movie 17/150: God's Not Dead 2\n",
      "Getting data of movie 18/150: Marvel One-Shot: Agent Carter\n",
      "Getting data of movie 19/150: Hamlet 2\n",
      "Getting data of movie 20/150: Where the Truth Lies\n",
      "Getting data of movie 21/150: Ashby\n",
      "Getting data of movie 22/150: Jaws\n",
      "Getting data of movie 23/150: Ricochet\n",
      "Getting data of movie 24/150: Middle Men\n",
      "Getting data of movie 25/150: Secretary\n",
      "Getting data of movie 26/150: The Merchant of Venice\n",
      "Getting data of movie 27/150: Dad's Army\n",
      "Getting data of movie 28/150: Ginger & Rosa\n",
      "Getting data of movie 29/150: Blood Diamond\n",
      "Getting data of movie 30/150: Georgetown\n",
      "Getting data of movie 31/150: Hotel Transylvania 3: Summer Vacation\n",
      "Getting data of movie 32/150: The Wizard of Oz\n",
      "Getting data of movie 33/150: Marvin's Room\n",
      "Getting data of movie 34/150: Horse Girl\n",
      "Getting data of movie 35/150: The Taking of Deborah Logan\n",
      "Getting data of movie 36/150: Sheena\n",
      "Getting data of movie 37/150: Song to Song\n",
      "Getting data of movie 38/150: Pay the Ghost\n",
      "Getting data of movie 39/150: The Peacemaker\n",
      "Getting data of movie 40/150: Psycho III\n",
      "Getting data of movie 41/150: The Art of Self-Defense\n",
      "Getting data of movie 42/150: Ninja Assassin\n",
      "Getting data of movie 43/150: Bad Hair Day\n",
      "Getting data of movie 44/150: Justice League: Doom\n",
      "Getting data of movie 45/150: Dead Again\n",
      "Getting data of movie 46/150: Mechanic: Resurrection\n",
      "Getting data of movie 47/150: Highlander: Endgame\n",
      "Getting data of movie 48/150: The Hunting Party\n",
      "Getting data of movie 49/150: Certain Women\n",
      "Getting data of movie 50/150: The Post\n",
      "Getting data of movie 51/150: My Favorite Martian\n",
      "Getting data of movie 52/150: FernGully: The Last Rainforest\n",
      "Getting data of movie 53/150: Lethal Weapon 4\n",
      "Getting data of movie 54/150: The Fourth Protocol\n",
      "Getting data of movie 55/150: Special Correspondents\n",
      "Getting data of movie 56/150: Now You See Me 2\n",
      "Getting data of movie 57/150: Dead Space: Downfall\n",
      "Getting data of movie 58/150: Bedtime Stories\n",
      "Getting data of movie 59/150: The Presidio\n",
      "Getting data of movie 60/150: Red Shoes and the Seven Dwarfs\n",
      "Getting data of movie 61/150: Paradise Hills\n",
      "Getting data of movie 62/150: Justice League: Gods and Monsters\n",
      "Getting data of movie 63/150: Black Butterfly\n",
      "Getting data of movie 64/150: Saving Mr. Banks\n",
      "Getting data of movie 65/150: Elegy\n",
      "Getting data of movie 66/150: Welcome to Marwen\n",
      "Getting data of movie 67/150: Berberian Sound Studio\n",
      "Getting data of movie 68/150: Frankenweenie\n",
      "Getting data of movie 69/150: The Haunting of Sharon Tate\n",
      "Getting data of movie 70/150: Unknown\n",
      "Getting data of movie 71/150: Power Rangers\n",
      "Getting data of movie 72/150: Summer of 84\n",
      "Getting data of movie 73/150: Moonrise Kingdom\n",
      "Getting data of movie 74/150: The Departed\n",
      "Getting data of movie 75/150: Let Me In\n",
      "Getting data of movie 76/150: Brightburn\n",
      "Getting data of movie 77/150: Alpha\n",
      "Getting data of movie 78/150: Love the Coopers\n",
      "Getting data of movie 79/150: The Turning\n",
      "Getting data of movie 80/150: The Tree of Life\n",
      "Getting data of movie 81/150: Gandhi\n",
      "Getting data of movie 82/150: World's Greatest Dad\n",
      "Getting data of movie 83/150: Blow the Man Down\n",
      "Getting data of movie 84/150: Lifeforce\n",
      "Getting data of movie 85/150: The Adventures of Bullwhip Griffin\n",
      "Getting data of movie 86/150: Red Dawn\n",
      "Getting data of movie 87/150: The Last Song\n",
      "Getting data of movie 88/150: Someone Great\n",
      "Getting data of movie 89/150: One Chance\n",
      "Getting data of movie 90/150: The Weather Man\n",
      "Getting data of movie 91/150: Austin Powers in Goldmember\n",
      "Getting data of movie 92/150: Down Periscope\n",
      "Getting data of movie 93/150: Open Water\n",
      "Getting data of movie 94/150: Borat\n",
      "Getting data of movie 95/150: Bliss\n",
      "Getting data of movie 96/150: Valmont\n",
      "Getting data of movie 97/150: Stronger\n",
      "Getting data of movie 98/150: The Dustwalker\n",
      "Getting data of movie 99/150: The Princess Switch\n",
      "Getting data of movie 100/150: Freaks of Nature\n",
      "Getting data of movie 101/150: Night of the Creeps\n",
      "Getting data of movie 102/150: Jaws: The Revenge\n",
      "Getting data of movie 103/150: The Irishman\n",
      "Getting data of movie 104/150: Dog Day Afternoon\n",
      "Getting data of movie 105/150: Shame\n",
      "Getting data of movie 106/150: Shark Bait\n",
      "Getting data of movie 107/150: Shark Tale\n",
      "Getting data of movie 108/150: Ordinary People\n",
      "Getting data of movie 109/150: The Incredibles\n",
      "Getting data of movie 110/150: Dumplin'\n",
      "Getting data of movie 111/150: Ghostbusters\n",
      "Getting data of movie 112/150: The Enforcer\n",
      "Getting data of movie 113/150: Chatroom\n",
      "Getting data of movie 114/150: Bride Wars\n",
      "Getting data of movie 115/150: How Do You Know\n",
      "Getting data of movie 116/150: Bottle Rocket\n",
      "Getting data of movie 117/150: Over the Hedge\n",
      "Getting data of movie 118/150: Land of the Lost\n",
      "Getting data of movie 119/150: The Shaggy Dog\n",
      "Getting data of movie 120/150: He's Just Not That Into You\n",
      "Getting data of movie 121/150: Rush Hour 3\n",
      "Getting data of movie 122/150: Before I Go to Sleep\n",
      "Getting data of movie 123/150: Toy Story 2\n",
      "Getting data of movie 124/150: Blue Thunder\n",
      "Getting data of movie 125/150: The Sweet Hereafter\n",
      "Getting data of movie 126/150: Chernobyl Diaries\n",
      "Getting data of movie 127/150: Never Been Kissed\n",
      "Getting data of movie 128/150: Gold Dust\n",
      "Getting data of movie 129/150: If Beale Street Could Talk\n",
      "Getting data of movie 130/150: Bambi\n",
      "Getting data of movie 131/150: Ferris Bueller's Day Off\n",
      "Getting data of movie 132/150: Spies Like Us\n",
      "Getting data of movie 133/150: Critters\n",
      "Getting data of movie 134/150: Reservoir Dogs\n",
      "Getting data of movie 135/150: Good Kill\n",
      "Getting data of movie 136/150: Semi-Pro\n",
      "Getting data of movie 137/150: Searching for Bobby Fischer\n",
      "Getting data of movie 138/150: Night of the Living Dead\n",
      "Getting data of movie 139/150: Heat\n",
      "Getting data of movie 140/150: The Host\n",
      "Getting data of movie 141/150: I Kill Giants\n",
      "Getting data of movie 142/150: Harley Davidson and the Marlboro Man\n",
      "Getting data of movie 143/150: Junebug\n",
      "Getting data of movie 144/150: The Phantom\n",
      "Getting data of movie 145/150: A Hidden Life\n",
      "Getting data of movie 146/150: National Treasure: Book of Secrets\n",
      "Getting data of movie 147/150: I Am Mother\n",
      "Getting data of movie 148/150: Awake\n",
      "Getting data of movie 149/150: Book of Dragons\n",
      "Getting data of movie 150/150: What the Health\n"
     ]
    }
   ],
   "source": [
    "# fetch omdb data for all movies\n",
    "omdb_data = []\n",
    "for i, title in enumerate(df[\"title\"]):\n",
    "    print(f\"Getting data of movie {i+1}/{len(df)}: {title}\")\n",
    "    data = get_omdb_data(title)\n",
    "    if data:\n",
    "        omdb_data.append(data)\n",
    "    # set delays to avoid API rate limits\n",
    "    time.sleep(1)\n",
    "\n",
    "# convert list to dataframe\n",
    "omdb_df = pd.DataFrame(omdb_data)\n",
    "\n",
    "# to avoid case sensitivity in merge\n",
    "df[\"Title\"] = df[\"title\"].str.title()\n",
    "df = df.drop(columns=[\"title\"])\n",
    "omdb_df[\"Title\"] = omdb_df[\"Title\"].str.title()\n",
    "\n",
    "# merge with original df\n",
    "movies_df = df.merge(omdb_df, on=\"Title\", how=\"left\")"
   ]
  },
  {
   "cell_type": "code",
   "execution_count": 25,
   "id": "babe7e7f-e86f-4a01-a52c-d4e2e5f1f555",
   "metadata": {
    "tags": []
   },
   "outputs": [
    {
     "data": {
      "text/html": [
       "<div>\n",
       "<style scoped>\n",
       "    .dataframe tbody tr th:only-of-type {\n",
       "        vertical-align: middle;\n",
       "    }\n",
       "\n",
       "    .dataframe tbody tr th {\n",
       "        vertical-align: top;\n",
       "    }\n",
       "\n",
       "    .dataframe thead th {\n",
       "        text-align: right;\n",
       "    }\n",
       "</style>\n",
       "<table border=\"1\" class=\"dataframe\">\n",
       "  <thead>\n",
       "    <tr style=\"text-align: right;\">\n",
       "      <th></th>\n",
       "      <th>title</th>\n",
       "      <th>Title</th>\n",
       "      <th>Year</th>\n",
       "      <th>Rated</th>\n",
       "      <th>Runtime</th>\n",
       "      <th>IMDB_Rating</th>\n",
       "      <th>IMDB_Votes</th>\n",
       "      <th>Box_Office</th>\n",
       "      <th>Released</th>\n",
       "      <th>Genre</th>\n",
       "      <th>Director</th>\n",
       "      <th>Writer</th>\n",
       "      <th>Actors</th>\n",
       "      <th>Plot</th>\n",
       "      <th>Language</th>\n",
       "      <th>Country</th>\n",
       "      <th>Awards</th>\n",
       "      <th>Poster</th>\n",
       "      <th>Metascore</th>\n",
       "      <th>Ratings</th>\n",
       "    </tr>\n",
       "  </thead>\n",
       "  <tbody>\n",
       "    <tr>\n",
       "      <th>0</th>\n",
       "      <td>The Age of Adaline</td>\n",
       "      <td>The Age Of Adaline</td>\n",
       "      <td>2015</td>\n",
       "      <td>PG-13</td>\n",
       "      <td>112 min</td>\n",
       "      <td>7.2</td>\n",
       "      <td>212,877</td>\n",
       "      <td>$42,629,776</td>\n",
       "      <td>24 Apr 2015</td>\n",
       "      <td>Drama, Fantasy, Romance</td>\n",
       "      <td>Lee Toland Krieger</td>\n",
       "      <td>J. Mills Goodloe, Salvador Paskowitz</td>\n",
       "      <td>Blake Lively, Michiel Huisman, Harrison Ford</td>\n",
       "      <td>A young woman, born at the turn of the 20th ce...</td>\n",
       "      <td>English, Portuguese, Italian</td>\n",
       "      <td>United States, Canada</td>\n",
       "      <td>1 win &amp; 10 nominations</td>\n",
       "      <td>https://m.media-amazon.com/images/M/MV5BMTAzMT...</td>\n",
       "      <td>51</td>\n",
       "      <td>[{'Source': 'Internet Movie Database', 'Value'...</td>\n",
       "    </tr>\n",
       "    <tr>\n",
       "      <th>1</th>\n",
       "      <td>Black Christmas</td>\n",
       "      <td>Black Christmas</td>\n",
       "      <td>1974</td>\n",
       "      <td>R</td>\n",
       "      <td>98 min</td>\n",
       "      <td>7.1</td>\n",
       "      <td>50,352</td>\n",
       "      <td>N/A</td>\n",
       "      <td>20 Dec 1974</td>\n",
       "      <td>Horror, Mystery, Thriller</td>\n",
       "      <td>Bob Clark</td>\n",
       "      <td>Roy Moore</td>\n",
       "      <td>Olivia Hussey, Keir Dullea, Margot Kidder</td>\n",
       "      <td>During their Christmas break, a group of soror...</td>\n",
       "      <td>English, Latin</td>\n",
       "      <td>Canada</td>\n",
       "      <td>3 wins &amp; 2 nominations</td>\n",
       "      <td>https://m.media-amazon.com/images/M/MV5BZjdiMz...</td>\n",
       "      <td>65</td>\n",
       "      <td>[{'Source': 'Internet Movie Database', 'Value'...</td>\n",
       "    </tr>\n",
       "    <tr>\n",
       "      <th>2</th>\n",
       "      <td>London</td>\n",
       "      <td>London</td>\n",
       "      <td>2005</td>\n",
       "      <td>R</td>\n",
       "      <td>92 min</td>\n",
       "      <td>6.3</td>\n",
       "      <td>25,119</td>\n",
       "      <td>$20,361</td>\n",
       "      <td>03 Jul 2021</td>\n",
       "      <td>Drama, Romance</td>\n",
       "      <td>Hunter Richards</td>\n",
       "      <td>Hunter Richards</td>\n",
       "      <td>Jessica Biel, Chris Evans, Jason Statham</td>\n",
       "      <td>At a drug laden party in a New York loft, a yo...</td>\n",
       "      <td>English</td>\n",
       "      <td>United Kingdom, United States</td>\n",
       "      <td>1 win &amp; 1 nomination total</td>\n",
       "      <td>https://m.media-amazon.com/images/M/MV5BMTc5Mz...</td>\n",
       "      <td>24</td>\n",
       "      <td>[{'Source': 'Internet Movie Database', 'Value'...</td>\n",
       "    </tr>\n",
       "    <tr>\n",
       "      <th>3</th>\n",
       "      <td>Twisted</td>\n",
       "      <td>Twisted</td>\n",
       "      <td>2004</td>\n",
       "      <td>R</td>\n",
       "      <td>97 min</td>\n",
       "      <td>5.3</td>\n",
       "      <td>23,599</td>\n",
       "      <td>$25,198,598</td>\n",
       "      <td>27 Feb 2004</td>\n",
       "      <td>Crime, Drama, Mystery</td>\n",
       "      <td>Philip Kaufman</td>\n",
       "      <td>Sarah Thorp</td>\n",
       "      <td>Ashley Judd, Samuel L. Jackson, Andy Garcia</td>\n",
       "      <td>Jessica, whose father killed her mother and co...</td>\n",
       "      <td>English, Italian, Spanish</td>\n",
       "      <td>United States, Germany</td>\n",
       "      <td>1 win</td>\n",
       "      <td>https://m.media-amazon.com/images/M/MV5BMGJhNj...</td>\n",
       "      <td>26</td>\n",
       "      <td>[{'Source': 'Internet Movie Database', 'Value'...</td>\n",
       "    </tr>\n",
       "    <tr>\n",
       "      <th>4</th>\n",
       "      <td>Friends with Kids</td>\n",
       "      <td>Friends With Kids</td>\n",
       "      <td>2011</td>\n",
       "      <td>R</td>\n",
       "      <td>107 min</td>\n",
       "      <td>6.1</td>\n",
       "      <td>43,369</td>\n",
       "      <td>$7,251,073</td>\n",
       "      <td>16 Mar 2012</td>\n",
       "      <td>Comedy, Drama, Romance</td>\n",
       "      <td>Jennifer Westfeldt</td>\n",
       "      <td>Jennifer Westfeldt</td>\n",
       "      <td>Jennifer Westfeldt, Adam Scott, Maya Rudolph</td>\n",
       "      <td>Two best friends decide to have a child togeth...</td>\n",
       "      <td>English</td>\n",
       "      <td>United States</td>\n",
       "      <td>2 nominations</td>\n",
       "      <td>https://m.media-amazon.com/images/M/MV5BMjIyMD...</td>\n",
       "      <td>55</td>\n",
       "      <td>[{'Source': 'Internet Movie Database', 'Value'...</td>\n",
       "    </tr>\n",
       "  </tbody>\n",
       "</table>\n",
       "</div>"
      ],
      "text/plain": [
       "                title               Title  Year  Rated  Runtime IMDB_Rating   \n",
       "0  The Age of Adaline  The Age Of Adaline  2015  PG-13  112 min         7.2  \\\n",
       "1     Black Christmas     Black Christmas  1974      R   98 min         7.1   \n",
       "2              London              London  2005      R   92 min         6.3   \n",
       "3             Twisted             Twisted  2004      R   97 min         5.3   \n",
       "4   Friends with Kids   Friends With Kids  2011      R  107 min         6.1   \n",
       "\n",
       "  IMDB_Votes   Box_Office     Released                      Genre   \n",
       "0    212,877  $42,629,776  24 Apr 2015    Drama, Fantasy, Romance  \\\n",
       "1     50,352          N/A  20 Dec 1974  Horror, Mystery, Thriller   \n",
       "2     25,119      $20,361  03 Jul 2021             Drama, Romance   \n",
       "3     23,599  $25,198,598  27 Feb 2004      Crime, Drama, Mystery   \n",
       "4     43,369   $7,251,073  16 Mar 2012     Comedy, Drama, Romance   \n",
       "\n",
       "             Director                                Writer   \n",
       "0  Lee Toland Krieger  J. Mills Goodloe, Salvador Paskowitz  \\\n",
       "1           Bob Clark                             Roy Moore   \n",
       "2     Hunter Richards                       Hunter Richards   \n",
       "3      Philip Kaufman                           Sarah Thorp   \n",
       "4  Jennifer Westfeldt                    Jennifer Westfeldt   \n",
       "\n",
       "                                         Actors   \n",
       "0  Blake Lively, Michiel Huisman, Harrison Ford  \\\n",
       "1     Olivia Hussey, Keir Dullea, Margot Kidder   \n",
       "2      Jessica Biel, Chris Evans, Jason Statham   \n",
       "3   Ashley Judd, Samuel L. Jackson, Andy Garcia   \n",
       "4  Jennifer Westfeldt, Adam Scott, Maya Rudolph   \n",
       "\n",
       "                                                Plot   \n",
       "0  A young woman, born at the turn of the 20th ce...  \\\n",
       "1  During their Christmas break, a group of soror...   \n",
       "2  At a drug laden party in a New York loft, a yo...   \n",
       "3  Jessica, whose father killed her mother and co...   \n",
       "4  Two best friends decide to have a child togeth...   \n",
       "\n",
       "                       Language                        Country   \n",
       "0  English, Portuguese, Italian          United States, Canada  \\\n",
       "1                English, Latin                         Canada   \n",
       "2                       English  United Kingdom, United States   \n",
       "3     English, Italian, Spanish         United States, Germany   \n",
       "4                       English                  United States   \n",
       "\n",
       "                       Awards   \n",
       "0      1 win & 10 nominations  \\\n",
       "1      3 wins & 2 nominations   \n",
       "2  1 win & 1 nomination total   \n",
       "3                       1 win   \n",
       "4               2 nominations   \n",
       "\n",
       "                                              Poster Metascore   \n",
       "0  https://m.media-amazon.com/images/M/MV5BMTAzMT...        51  \\\n",
       "1  https://m.media-amazon.com/images/M/MV5BZjdiMz...        65   \n",
       "2  https://m.media-amazon.com/images/M/MV5BMTc5Mz...        24   \n",
       "3  https://m.media-amazon.com/images/M/MV5BMGJhNj...        26   \n",
       "4  https://m.media-amazon.com/images/M/MV5BMjIyMD...        55   \n",
       "\n",
       "                                             Ratings  \n",
       "0  [{'Source': 'Internet Movie Database', 'Value'...  \n",
       "1  [{'Source': 'Internet Movie Database', 'Value'...  \n",
       "2  [{'Source': 'Internet Movie Database', 'Value'...  \n",
       "3  [{'Source': 'Internet Movie Database', 'Value'...  \n",
       "4  [{'Source': 'Internet Movie Database', 'Value'...  "
      ]
     },
     "execution_count": 25,
     "metadata": {},
     "output_type": "execute_result"
    }
   ],
   "source": [
    "movies_df.head()"
   ]
  },
  {
   "cell_type": "code",
   "execution_count": 40,
   "id": "c7206554-ce96-44c7-b4cc-139ceefaa4ee",
   "metadata": {
    "tags": []
   },
   "outputs": [
    {
     "data": {
      "text/plain": [
       "0      False\n",
       "1      False\n",
       "2      False\n",
       "3      False\n",
       "4      False\n",
       "       ...  \n",
       "145    False\n",
       "146    False\n",
       "147    False\n",
       "148    False\n",
       "149    False\n",
       "Name: Box_Office, Length: 150, dtype: bool"
      ]
     },
     "execution_count": 40,
     "metadata": {},
     "output_type": "execute_result"
    }
   ],
   "source": [
    "movies_df.info()"
   ]
  },
  {
   "cell_type": "code",
   "execution_count": 36,
   "id": "1d7328d5-f090-4edf-86ce-f37ae4b09407",
   "metadata": {
    "tags": []
   },
   "outputs": [
    {
     "data": {
      "text/plain": [
       "title          0\n",
       "Title          0\n",
       "Year           1\n",
       "Rated          1\n",
       "Runtime        1\n",
       "IMDB_Rating    1\n",
       "IMDB_Votes     1\n",
       "Box_Office     1\n",
       "Released       1\n",
       "Genre          1\n",
       "Director       1\n",
       "Writer         1\n",
       "Actors         1\n",
       "Plot           1\n",
       "Language       1\n",
       "Country        1\n",
       "Awards         1\n",
       "Poster         1\n",
       "Metascore      1\n",
       "Ratings        1\n",
       "dtype: int64"
      ]
     },
     "execution_count": 36,
     "metadata": {},
     "output_type": "execute_result"
    }
   ],
   "source": [
    "# null values\n",
    "movies_df.isnull().sum()"
   ]
  },
  {
   "cell_type": "code",
   "execution_count": 58,
   "id": "2617267b-2de8-49bc-ab74-65cfc7726cae",
   "metadata": {
    "tags": []
   },
   "outputs": [],
   "source": [
    "movies_df = movies_df.dropna()"
   ]
  },
  {
   "cell_type": "code",
   "execution_count": 59,
   "id": "0862d067-a275-4b76-961c-eadb9e32ff37",
   "metadata": {
    "tags": []
   },
   "outputs": [
    {
     "name": "stdout",
     "output_type": "stream",
     "text": [
      "movies where box office earnings are not available: 35\n"
     ]
    }
   ],
   "source": [
    "# find movies where box office earnings are not available\n",
    "boxoffice_na = movies_df[movies_df['Box_Office'] == 'N/A']\n",
    "box_office_na_count = boxoffice_na.shape[0]\n",
    "print(f'movies where box office earnings are not available: {box_office_na_count}')"
   ]
  },
  {
   "cell_type": "code",
   "execution_count": 61,
   "id": "a8f40883-5c6b-4c64-a125-df96b9f45318",
   "metadata": {
    "tags": []
   },
   "outputs": [
    {
     "name": "stdout",
     "output_type": "stream",
     "text": [
      "movies released before 2006: 55\n"
     ]
    },
    {
     "name": "stderr",
     "output_type": "stream",
     "text": [
      "/var/folders/gt/7kmf603j77q1btgzzyyg2lch0000gn/T/ipykernel_14280/2222035051.py:2: SettingWithCopyWarning: \n",
      "A value is trying to be set on a copy of a slice from a DataFrame.\n",
      "Try using .loc[row_indexer,col_indexer] = value instead\n",
      "\n",
      "See the caveats in the documentation: https://pandas.pydata.org/pandas-docs/stable/user_guide/indexing.html#returning-a-view-versus-a-copy\n",
      "  movies_df['Year_numeric'] = pd.to_numeric(movies_df['Year'], errors='coerce')\n"
     ]
    }
   ],
   "source": [
    "# find movies where released before 2006\n",
    "movies_df['Year_numeric'] = pd.to_numeric(movies_df['Year'], errors='coerce')\n",
    "before06 = movies_df[movies_df['Year_numeric'] < 2006]\n",
    "before06_count = before06.shape[0]\n",
    "print(f'movies released before 2006: {before06_count}')"
   ]
  },
  {
   "cell_type": "code",
   "execution_count": 62,
   "id": "6f6ab606-f5b9-4e74-ac0d-72f294550e32",
   "metadata": {
    "tags": []
   },
   "outputs": [],
   "source": [
    "movies_df_cleaned = movies_df[movies_df['Box_Office'] != 'N/A']\n",
    "movies_df_cleaned = movies_df_cleaned[movies_df_cleaned['Year_numeric'] < 2006]"
   ]
  },
  {
   "cell_type": "code",
   "execution_count": 63,
   "id": "27b266e8-eb1e-4098-95d1-46f646747f97",
   "metadata": {
    "tags": []
   },
   "outputs": [],
   "source": [
    "movies_df_cleaned = movies_df_cleaned.drop(columns=[\"Year_numeric\"])"
   ]
  },
  {
   "cell_type": "code",
   "execution_count": 64,
   "id": "c7b6f657-3cac-4136-970f-a8d025e1d56e",
   "metadata": {
    "tags": []
   },
   "outputs": [
    {
     "name": "stdout",
     "output_type": "stream",
     "text": [
      "<class 'pandas.core.frame.DataFrame'>\n",
      "Index: 52 entries, 2 to 143\n",
      "Data columns (total 20 columns):\n",
      " #   Column       Non-Null Count  Dtype \n",
      "---  ------       --------------  ----- \n",
      " 0   title        52 non-null     object\n",
      " 1   Title        52 non-null     object\n",
      " 2   Year         52 non-null     object\n",
      " 3   Rated        52 non-null     object\n",
      " 4   Runtime      52 non-null     object\n",
      " 5   IMDB_Rating  52 non-null     object\n",
      " 6   IMDB_Votes   52 non-null     object\n",
      " 7   Box_Office   52 non-null     object\n",
      " 8   Released     52 non-null     object\n",
      " 9   Genre        52 non-null     object\n",
      " 10  Director     52 non-null     object\n",
      " 11  Writer       52 non-null     object\n",
      " 12  Actors       52 non-null     object\n",
      " 13  Plot         52 non-null     object\n",
      " 14  Language     52 non-null     object\n",
      " 15  Country      52 non-null     object\n",
      " 16  Awards       52 non-null     object\n",
      " 17  Poster       52 non-null     object\n",
      " 18  Metascore    52 non-null     object\n",
      " 19  Ratings      52 non-null     object\n",
      "dtypes: object(20)\n",
      "memory usage: 8.5+ KB\n"
     ]
    }
   ],
   "source": [
    "movies_df_cleaned.info()"
   ]
  },
  {
   "cell_type": "code",
   "execution_count": 37,
   "id": "348ec366-47c6-4b99-9ed9-22ad2f52d25e",
   "metadata": {
    "tags": []
   },
   "outputs": [],
   "source": [
    "# initialize pytrends\n",
    "\n",
    "from pytrends.request import TrendReq\n",
    "\n",
    "pytrends = TrendReq(hl='en-US', tz=360)"
   ]
  },
  {
   "cell_type": "code",
   "execution_count": null,
   "id": "f18eaa43-4c0d-4c59-b4ae-74ede7533e79",
   "metadata": {},
   "outputs": [],
   "source": []
  }
 ],
 "metadata": {
  "kernelspec": {
   "display_name": "Python 3 (ipykernel)",
   "language": "python",
   "name": "python3"
  },
  "language_info": {
   "codemirror_mode": {
    "name": "ipython",
    "version": 3
   },
   "file_extension": ".py",
   "mimetype": "text/x-python",
   "name": "python",
   "nbconvert_exporter": "python",
   "pygments_lexer": "ipython3",
   "version": "3.11.3"
  }
 },
 "nbformat": 4,
 "nbformat_minor": 5
}

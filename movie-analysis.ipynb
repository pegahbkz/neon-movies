{
 "cells": [
  {
   "cell_type": "code",
   "execution_count": 3,
   "id": "1852011b-f2bf-4380-91e0-52d23eba2dc4",
   "metadata": {
    "tags": []
   },
   "outputs": [
    {
     "data": {
      "text/html": [
       "<div>\n",
       "<style scoped>\n",
       "    .dataframe tbody tr th:only-of-type {\n",
       "        vertical-align: middle;\n",
       "    }\n",
       "\n",
       "    .dataframe tbody tr th {\n",
       "        vertical-align: top;\n",
       "    }\n",
       "\n",
       "    .dataframe thead th {\n",
       "        text-align: right;\n",
       "    }\n",
       "</style>\n",
       "<table border=\"1\" class=\"dataframe\">\n",
       "  <thead>\n",
       "    <tr style=\"text-align: right;\">\n",
       "      <th></th>\n",
       "      <th>title</th>\n",
       "    </tr>\n",
       "  </thead>\n",
       "  <tbody>\n",
       "    <tr>\n",
       "      <th>0</th>\n",
       "      <td>The Age of Adaline</td>\n",
       "    </tr>\n",
       "    <tr>\n",
       "      <th>1</th>\n",
       "      <td>Black Christmas</td>\n",
       "    </tr>\n",
       "    <tr>\n",
       "      <th>2</th>\n",
       "      <td>London</td>\n",
       "    </tr>\n",
       "    <tr>\n",
       "      <th>3</th>\n",
       "      <td>Twisted</td>\n",
       "    </tr>\n",
       "    <tr>\n",
       "      <th>4</th>\n",
       "      <td>Friends with Kids</td>\n",
       "    </tr>\n",
       "  </tbody>\n",
       "</table>\n",
       "</div>"
      ],
      "text/plain": [
       "                title\n",
       "0  The Age of Adaline\n",
       "1     Black Christmas\n",
       "2              London\n",
       "3             Twisted\n",
       "4   Friends with Kids"
      ]
     },
     "execution_count": 3,
     "metadata": {},
     "output_type": "execute_result"
    }
   ],
   "source": [
    "import pandas as pd\n",
    "\n",
    "# load excel file\n",
    "df = pd.read_excel(\"movies.xlsx\")\n",
    "df.head()"
   ]
  },
  {
   "cell_type": "code",
   "execution_count": 7,
   "id": "7bb3bbac-c5a9-46b3-aec1-bf5651607ec2",
   "metadata": {
    "tags": []
   },
   "outputs": [
    {
     "name": "stdout",
     "output_type": "stream",
     "text": [
      "Number of rows: 150\n"
     ]
    }
   ],
   "source": [
    "print('Number of rows:', df.size)"
   ]
  },
  {
   "cell_type": "code",
   "execution_count": 8,
   "id": "3f5cfc7d-002c-46e6-8a90-2c213d0df036",
   "metadata": {
    "tags": []
   },
   "outputs": [],
   "source": [
    "# initialize omdb\n",
    "import requests\n",
    "import time\n",
    "\n",
    "OMDB_API_KEY = \"c0c5b16c\""
   ]
  },
  {
   "cell_type": "code",
   "execution_count": 9,
   "id": "cc2e1de0-9bfd-4017-84f9-cad79ed3f133",
   "metadata": {
    "tags": []
   },
   "outputs": [],
   "source": [
    "# function to get movie data from omdp\n",
    "def get_omdb_data(title):\n",
    "    # request data for movie title\n",
    "    url = f\"http://www.omdbapi.com/?t={title}&apikey={OMDB_API_KEY}\"\n",
    "    response = requests.get(url)\n",
    "    data = response.json()\n",
    "    \n",
    "    # return movie data\n",
    "    if data.get(\"Response\") == \"True\":\n",
    "        return {\n",
    "            \"Title\": data.get(\"Title\"),\n",
    "            \"Year\": data.get(\"Year\"),\n",
    "            \"Rated\": data.get(\"Rated\"),\n",
    "            \"Runtime\": data.get(\"Runtime\"),\n",
    "            \"IMDB_Rating\": data.get(\"imdbRating\"),\n",
    "            \"IMDB_Votes\": data.get(\"imdbVotes\"),\n",
    "            \"Box_Office\": data.get(\"BoxOffice\"),\n",
    "            \"Released\": data.get(\"Released\"),\n",
    "            \"Genre\": data.get(\"Genre\"),\n",
    "            \"Director\": data.get(\"Director\"),\n",
    "            \"Writer\": data.get(\"Writer\"),\n",
    "            \"Actors\": data.get(\"Actors\"),\n",
    "            \"Plot\": data.get(\"Plot\"),\n",
    "            \"Language\": data.get(\"Language\"),\n",
    "            \"Country\": data.get(\"Country\"),\n",
    "            \"Awards\": data.get(\"Awards\"),\n",
    "            \"Poster\": data.get(\"Poster\"),\n",
    "            \"Metascore\": data.get(\"Metascore\"),\n",
    "            \"Ratings\": data.get(\"Ratings\")\n",
    "        }\n",
    "    else:\n",
    "        return None"
   ]
  },
  {
   "cell_type": "code",
   "execution_count": 10,
   "id": "5ffa64fe-33fe-43a7-830c-9e4fa7eb2c8e",
   "metadata": {
    "tags": []
   },
   "outputs": [
    {
     "data": {
      "text/plain": [
       "{'Title': 'Inception',\n",
       " 'Year': '2010',\n",
       " 'Rated': 'PG-13',\n",
       " 'Runtime': '148 min',\n",
       " 'IMDB_Rating': '8.8',\n",
       " 'IMDB_Votes': '2,645,456',\n",
       " 'Box_Office': '$292,587,330',\n",
       " 'Released': '16 Jul 2010',\n",
       " 'Genre': 'Action, Adventure, Sci-Fi',\n",
       " 'Director': 'Christopher Nolan',\n",
       " 'Writer': 'Christopher Nolan',\n",
       " 'Actors': 'Leonardo DiCaprio, Joseph Gordon-Levitt, Elliot Page',\n",
       " 'Plot': 'A thief who steals corporate secrets through the use of dream-sharing technology is given the inverse task of planting an idea into the mind of a C.E.O., but his tragic past may doom the project and his team to disaster.',\n",
       " 'Language': 'English, Japanese, French',\n",
       " 'Country': 'United States, United Kingdom',\n",
       " 'Awards': 'Won 4 Oscars. 159 wins & 220 nominations total',\n",
       " 'Poster': 'https://m.media-amazon.com/images/M/MV5BMjAxMzY3NjcxNF5BMl5BanBnXkFtZTcwNTI5OTM0Mw@@._V1_SX300.jpg',\n",
       " 'Metascore': '74',\n",
       " 'Ratings': [{'Source': 'Internet Movie Database', 'Value': '8.8/10'},\n",
       "  {'Source': 'Rotten Tomatoes', 'Value': '87%'},\n",
       "  {'Source': 'Metacritic', 'Value': '74/100'}]}"
      ]
     },
     "execution_count": 10,
     "metadata": {},
     "output_type": "execute_result"
    }
   ],
   "source": [
    "# get_omdp_data test\n",
    "get_omdb_data(\"inception\")"
   ]
  },
  {
   "cell_type": "code",
   "execution_count": 11,
   "id": "4a69e185-a546-4504-a6cd-f8c4d4e1ef26",
   "metadata": {
    "tags": []
   },
   "outputs": [
    {
     "name": "stdout",
     "output_type": "stream",
     "text": [
      "Getting data of movie 1/150: The Age of Adaline\n",
      "Getting data of movie 2/150: Black Christmas\n",
      "Getting data of movie 3/150: London\n",
      "Getting data of movie 4/150: Twisted\n",
      "Getting data of movie 5/150: Friends with Kids\n",
      "Getting data of movie 6/150: Ken Park\n",
      "Getting data of movie 7/150: Girls Trip\n",
      "Getting data of movie 8/150: The Art of the Steal\n",
      "Getting data of movie 9/150: Macbeth\n",
      "Getting data of movie 10/150: Fatherhood\n",
      "Getting data of movie 11/150: London Has Fallen\n",
      "Getting data of movie 12/150: Anthropoid\n",
      "Getting data of movie 13/150: Me, Myself & Irene\n",
      "Getting data of movie 14/150: The Last Face\n",
      "Getting data of movie 15/150: The Fly\n",
      "Getting data of movie 16/150: A Quiet Place\n",
      "Getting data of movie 17/150: God's Not Dead 2\n",
      "Getting data of movie 18/150: Marvel One-Shot: Agent Carter\n",
      "Getting data of movie 19/150: Hamlet 2\n",
      "Getting data of movie 20/150: Where the Truth Lies\n",
      "Getting data of movie 21/150: Ashby\n",
      "Getting data of movie 22/150: Jaws\n",
      "Getting data of movie 23/150: Ricochet\n",
      "Getting data of movie 24/150: Middle Men\n",
      "Getting data of movie 25/150: Secretary\n",
      "Getting data of movie 26/150: The Merchant of Venice\n",
      "Getting data of movie 27/150: Dad's Army\n",
      "Getting data of movie 28/150: Ginger & Rosa\n",
      "Getting data of movie 29/150: Blood Diamond\n",
      "Getting data of movie 30/150: Georgetown\n",
      "Getting data of movie 31/150: Hotel Transylvania 3: Summer Vacation\n",
      "Getting data of movie 32/150: The Wizard of Oz\n",
      "Getting data of movie 33/150: Marvin's Room\n",
      "Getting data of movie 34/150: Horse Girl\n",
      "Getting data of movie 35/150: The Taking of Deborah Logan\n",
      "Getting data of movie 36/150: Sheena\n",
      "Getting data of movie 37/150: Song to Song\n",
      "Getting data of movie 38/150: Pay the Ghost\n",
      "Getting data of movie 39/150: The Peacemaker\n",
      "Getting data of movie 40/150: Psycho III\n",
      "Getting data of movie 41/150: The Art of Self-Defense\n",
      "Getting data of movie 42/150: Ninja Assassin\n",
      "Getting data of movie 43/150: Bad Hair Day\n",
      "Getting data of movie 44/150: Justice League: Doom\n",
      "Getting data of movie 45/150: Dead Again\n",
      "Getting data of movie 46/150: Mechanic: Resurrection\n",
      "Getting data of movie 47/150: Highlander: Endgame\n",
      "Getting data of movie 48/150: The Hunting Party\n",
      "Getting data of movie 49/150: Certain Women\n",
      "Getting data of movie 50/150: The Post\n",
      "Getting data of movie 51/150: My Favorite Martian\n",
      "Getting data of movie 52/150: FernGully: The Last Rainforest\n",
      "Getting data of movie 53/150: Lethal Weapon 4\n",
      "Getting data of movie 54/150: The Fourth Protocol\n",
      "Getting data of movie 55/150: Special Correspondents\n",
      "Getting data of movie 56/150: Now You See Me 2\n",
      "Getting data of movie 57/150: Dead Space: Downfall\n",
      "Getting data of movie 58/150: Bedtime Stories\n",
      "Getting data of movie 59/150: The Presidio\n",
      "Getting data of movie 60/150: Red Shoes and the Seven Dwarfs\n",
      "Getting data of movie 61/150: Paradise Hills\n",
      "Getting data of movie 62/150: Justice League: Gods and Monsters\n",
      "Getting data of movie 63/150: Black Butterfly\n",
      "Getting data of movie 64/150: Saving Mr. Banks\n",
      "Getting data of movie 65/150: Elegy\n",
      "Getting data of movie 66/150: Welcome to Marwen\n",
      "Getting data of movie 67/150: Berberian Sound Studio\n",
      "Getting data of movie 68/150: Frankenweenie\n",
      "Getting data of movie 69/150: The Haunting of Sharon Tate\n",
      "Getting data of movie 70/150: Unknown\n",
      "Getting data of movie 71/150: Power Rangers\n",
      "Getting data of movie 72/150: Summer of 84\n",
      "Getting data of movie 73/150: Moonrise Kingdom\n",
      "Getting data of movie 74/150: The Departed\n",
      "Getting data of movie 75/150: Let Me In\n",
      "Getting data of movie 76/150: Brightburn\n",
      "Getting data of movie 77/150: Alpha\n",
      "Getting data of movie 78/150: Love the Coopers\n",
      "Getting data of movie 79/150: The Turning\n",
      "Getting data of movie 80/150: The Tree of Life\n",
      "Getting data of movie 81/150: Gandhi\n",
      "Getting data of movie 82/150: World's Greatest Dad\n",
      "Getting data of movie 83/150: Blow the Man Down\n",
      "Getting data of movie 84/150: Lifeforce\n",
      "Getting data of movie 85/150: The Adventures of Bullwhip Griffin\n",
      "Getting data of movie 86/150: Red Dawn\n",
      "Getting data of movie 87/150: The Last Song\n",
      "Getting data of movie 88/150: Someone Great\n",
      "Getting data of movie 89/150: One Chance\n",
      "Getting data of movie 90/150: The Weather Man\n",
      "Getting data of movie 91/150: Austin Powers in Goldmember\n",
      "Getting data of movie 92/150: Down Periscope\n",
      "Getting data of movie 93/150: Open Water\n",
      "Getting data of movie 94/150: Borat\n",
      "Getting data of movie 95/150: Bliss\n",
      "Getting data of movie 96/150: Valmont\n",
      "Getting data of movie 97/150: Stronger\n",
      "Getting data of movie 98/150: The Dustwalker\n",
      "Getting data of movie 99/150: The Princess Switch\n",
      "Getting data of movie 100/150: Freaks of Nature\n",
      "Getting data of movie 101/150: Night of the Creeps\n",
      "Getting data of movie 102/150: Jaws: The Revenge\n",
      "Getting data of movie 103/150: The Irishman\n",
      "Getting data of movie 104/150: Dog Day Afternoon\n",
      "Getting data of movie 105/150: Shame\n",
      "Getting data of movie 106/150: Shark Bait\n",
      "Getting data of movie 107/150: Shark Tale\n",
      "Getting data of movie 108/150: Ordinary People\n",
      "Getting data of movie 109/150: The Incredibles\n",
      "Getting data of movie 110/150: Dumplin'\n",
      "Getting data of movie 111/150: Ghostbusters\n",
      "Getting data of movie 112/150: The Enforcer\n",
      "Getting data of movie 113/150: Chatroom\n",
      "Getting data of movie 114/150: Bride Wars\n",
      "Getting data of movie 115/150: How Do You Know\n",
      "Getting data of movie 116/150: Bottle Rocket\n",
      "Getting data of movie 117/150: Over the Hedge\n",
      "Getting data of movie 118/150: Land of the Lost\n",
      "Getting data of movie 119/150: The Shaggy Dog\n",
      "Getting data of movie 120/150: He's Just Not That Into You\n",
      "Getting data of movie 121/150: Rush Hour 3\n",
      "Getting data of movie 122/150: Before I Go to Sleep\n",
      "Getting data of movie 123/150: Toy Story 2\n",
      "Getting data of movie 124/150: Blue Thunder\n",
      "Getting data of movie 125/150: The Sweet Hereafter\n",
      "Getting data of movie 126/150: Chernobyl Diaries\n",
      "Getting data of movie 127/150: Never Been Kissed\n",
      "Getting data of movie 128/150: Gold Dust\n",
      "Getting data of movie 129/150: If Beale Street Could Talk\n",
      "Getting data of movie 130/150: Bambi\n",
      "Getting data of movie 131/150: Ferris Bueller's Day Off\n",
      "Getting data of movie 132/150: Spies Like Us\n",
      "Getting data of movie 133/150: Critters\n",
      "Getting data of movie 134/150: Reservoir Dogs\n",
      "Getting data of movie 135/150: Good Kill\n",
      "Getting data of movie 136/150: Semi-Pro\n",
      "Getting data of movie 137/150: Searching for Bobby Fischer\n",
      "Getting data of movie 138/150: Night of the Living Dead\n",
      "Getting data of movie 139/150: Heat\n",
      "Getting data of movie 140/150: The Host\n",
      "Getting data of movie 141/150: I Kill Giants\n",
      "Getting data of movie 142/150: Harley Davidson and the Marlboro Man\n",
      "Getting data of movie 143/150: Junebug\n",
      "Getting data of movie 144/150: The Phantom\n",
      "Getting data of movie 145/150: A Hidden Life\n",
      "Getting data of movie 146/150: National Treasure: Book of Secrets\n",
      "Getting data of movie 147/150: I Am Mother\n",
      "Getting data of movie 148/150: Awake\n",
      "Getting data of movie 149/150: Book of Dragons\n",
      "Getting data of movie 150/150: What the Health\n"
     ]
    }
   ],
   "source": [
    "# fetch omdb data for all movies\n",
    "omdb_data = []\n",
    "for i, title in enumerate(df[\"title\"]):\n",
    "    print(f\"Getting data of movie {i+1}/{len(df)}: {title}\")\n",
    "    data = get_omdb_data(title)\n",
    "    if data:\n",
    "        omdb_data.append(data)\n",
    "    # set delays to avoid API rate limits\n",
    "    time.sleep(1)\n",
    "\n",
    "# convert list to dataframe\n",
    "omdb_df = pd.DataFrame(omdb_data)\n",
    "\n",
    "# to avoid case sensitivity in merge\n",
    "df[\"Title\"] = df[\"title\"].str.title()\n",
    "df = df.drop(columns=[\"title\"])\n",
    "omdb_df[\"Title\"] = omdb_df[\"Title\"].str.title()\n",
    "\n",
    "# merge with original df\n",
    "movies = df.merge(omdb_df, on=\"Title\", how=\"left\")"
   ]
  },
  {
   "cell_type": "code",
   "execution_count": 12,
   "id": "babe7e7f-e86f-4a01-a52c-d4e2e5f1f555",
   "metadata": {
    "tags": []
   },
   "outputs": [
    {
     "data": {
      "text/html": [
       "<div>\n",
       "<style scoped>\n",
       "    .dataframe tbody tr th:only-of-type {\n",
       "        vertical-align: middle;\n",
       "    }\n",
       "\n",
       "    .dataframe tbody tr th {\n",
       "        vertical-align: top;\n",
       "    }\n",
       "\n",
       "    .dataframe thead th {\n",
       "        text-align: right;\n",
       "    }\n",
       "</style>\n",
       "<table border=\"1\" class=\"dataframe\">\n",
       "  <thead>\n",
       "    <tr style=\"text-align: right;\">\n",
       "      <th></th>\n",
       "      <th>Title</th>\n",
       "      <th>Year</th>\n",
       "      <th>Rated</th>\n",
       "      <th>Runtime</th>\n",
       "      <th>IMDB_Rating</th>\n",
       "      <th>IMDB_Votes</th>\n",
       "      <th>Box_Office</th>\n",
       "      <th>Released</th>\n",
       "      <th>Genre</th>\n",
       "      <th>Director</th>\n",
       "      <th>Writer</th>\n",
       "      <th>Actors</th>\n",
       "      <th>Plot</th>\n",
       "      <th>Language</th>\n",
       "      <th>Country</th>\n",
       "      <th>Awards</th>\n",
       "      <th>Poster</th>\n",
       "      <th>Metascore</th>\n",
       "      <th>Ratings</th>\n",
       "    </tr>\n",
       "  </thead>\n",
       "  <tbody>\n",
       "    <tr>\n",
       "      <th>0</th>\n",
       "      <td>The Age Of Adaline</td>\n",
       "      <td>2015</td>\n",
       "      <td>PG-13</td>\n",
       "      <td>112 min</td>\n",
       "      <td>7.2</td>\n",
       "      <td>212,877</td>\n",
       "      <td>$42,629,776</td>\n",
       "      <td>24 Apr 2015</td>\n",
       "      <td>Drama, Fantasy, Romance</td>\n",
       "      <td>Lee Toland Krieger</td>\n",
       "      <td>J. Mills Goodloe, Salvador Paskowitz</td>\n",
       "      <td>Blake Lively, Michiel Huisman, Harrison Ford</td>\n",
       "      <td>A young woman, born at the turn of the 20th ce...</td>\n",
       "      <td>English, Portuguese, Italian</td>\n",
       "      <td>United States, Canada</td>\n",
       "      <td>1 win &amp; 10 nominations</td>\n",
       "      <td>https://m.media-amazon.com/images/M/MV5BMTAzMT...</td>\n",
       "      <td>51</td>\n",
       "      <td>[{'Source': 'Internet Movie Database', 'Value'...</td>\n",
       "    </tr>\n",
       "    <tr>\n",
       "      <th>1</th>\n",
       "      <td>Black Christmas</td>\n",
       "      <td>1974</td>\n",
       "      <td>R</td>\n",
       "      <td>98 min</td>\n",
       "      <td>7.1</td>\n",
       "      <td>50,352</td>\n",
       "      <td>N/A</td>\n",
       "      <td>20 Dec 1974</td>\n",
       "      <td>Horror, Mystery, Thriller</td>\n",
       "      <td>Bob Clark</td>\n",
       "      <td>Roy Moore</td>\n",
       "      <td>Olivia Hussey, Keir Dullea, Margot Kidder</td>\n",
       "      <td>During their Christmas break, a group of soror...</td>\n",
       "      <td>English, Latin</td>\n",
       "      <td>Canada</td>\n",
       "      <td>3 wins &amp; 2 nominations</td>\n",
       "      <td>https://m.media-amazon.com/images/M/MV5BZjdiMz...</td>\n",
       "      <td>65</td>\n",
       "      <td>[{'Source': 'Internet Movie Database', 'Value'...</td>\n",
       "    </tr>\n",
       "    <tr>\n",
       "      <th>2</th>\n",
       "      <td>London</td>\n",
       "      <td>2005</td>\n",
       "      <td>R</td>\n",
       "      <td>92 min</td>\n",
       "      <td>6.3</td>\n",
       "      <td>25,119</td>\n",
       "      <td>$20,361</td>\n",
       "      <td>03 Jul 2021</td>\n",
       "      <td>Drama, Romance</td>\n",
       "      <td>Hunter Richards</td>\n",
       "      <td>Hunter Richards</td>\n",
       "      <td>Jessica Biel, Chris Evans, Jason Statham</td>\n",
       "      <td>At a drug laden party in a New York loft, a yo...</td>\n",
       "      <td>English</td>\n",
       "      <td>United Kingdom, United States</td>\n",
       "      <td>1 win &amp; 1 nomination total</td>\n",
       "      <td>https://m.media-amazon.com/images/M/MV5BMTc5Mz...</td>\n",
       "      <td>24</td>\n",
       "      <td>[{'Source': 'Internet Movie Database', 'Value'...</td>\n",
       "    </tr>\n",
       "    <tr>\n",
       "      <th>3</th>\n",
       "      <td>Twisted</td>\n",
       "      <td>2004</td>\n",
       "      <td>R</td>\n",
       "      <td>97 min</td>\n",
       "      <td>5.3</td>\n",
       "      <td>23,599</td>\n",
       "      <td>$25,198,598</td>\n",
       "      <td>27 Feb 2004</td>\n",
       "      <td>Crime, Drama, Mystery</td>\n",
       "      <td>Philip Kaufman</td>\n",
       "      <td>Sarah Thorp</td>\n",
       "      <td>Ashley Judd, Samuel L. Jackson, Andy Garcia</td>\n",
       "      <td>Jessica, whose father killed her mother and co...</td>\n",
       "      <td>English, Italian, Spanish</td>\n",
       "      <td>United States, Germany</td>\n",
       "      <td>1 win</td>\n",
       "      <td>https://m.media-amazon.com/images/M/MV5BMGJhNj...</td>\n",
       "      <td>26</td>\n",
       "      <td>[{'Source': 'Internet Movie Database', 'Value'...</td>\n",
       "    </tr>\n",
       "    <tr>\n",
       "      <th>4</th>\n",
       "      <td>Friends With Kids</td>\n",
       "      <td>2011</td>\n",
       "      <td>R</td>\n",
       "      <td>107 min</td>\n",
       "      <td>6.1</td>\n",
       "      <td>43,369</td>\n",
       "      <td>$7,251,073</td>\n",
       "      <td>16 Mar 2012</td>\n",
       "      <td>Comedy, Drama, Romance</td>\n",
       "      <td>Jennifer Westfeldt</td>\n",
       "      <td>Jennifer Westfeldt</td>\n",
       "      <td>Jennifer Westfeldt, Adam Scott, Maya Rudolph</td>\n",
       "      <td>Two best friends decide to have a child togeth...</td>\n",
       "      <td>English</td>\n",
       "      <td>United States</td>\n",
       "      <td>2 nominations</td>\n",
       "      <td>https://m.media-amazon.com/images/M/MV5BMjIyMD...</td>\n",
       "      <td>55</td>\n",
       "      <td>[{'Source': 'Internet Movie Database', 'Value'...</td>\n",
       "    </tr>\n",
       "  </tbody>\n",
       "</table>\n",
       "</div>"
      ],
      "text/plain": [
       "                Title  Year  Rated  Runtime IMDB_Rating IMDB_Votes   \n",
       "0  The Age Of Adaline  2015  PG-13  112 min         7.2    212,877  \\\n",
       "1     Black Christmas  1974      R   98 min         7.1     50,352   \n",
       "2              London  2005      R   92 min         6.3     25,119   \n",
       "3             Twisted  2004      R   97 min         5.3     23,599   \n",
       "4   Friends With Kids  2011      R  107 min         6.1     43,369   \n",
       "\n",
       "    Box_Office     Released                      Genre            Director   \n",
       "0  $42,629,776  24 Apr 2015    Drama, Fantasy, Romance  Lee Toland Krieger  \\\n",
       "1          N/A  20 Dec 1974  Horror, Mystery, Thriller           Bob Clark   \n",
       "2      $20,361  03 Jul 2021             Drama, Romance     Hunter Richards   \n",
       "3  $25,198,598  27 Feb 2004      Crime, Drama, Mystery      Philip Kaufman   \n",
       "4   $7,251,073  16 Mar 2012     Comedy, Drama, Romance  Jennifer Westfeldt   \n",
       "\n",
       "                                 Writer   \n",
       "0  J. Mills Goodloe, Salvador Paskowitz  \\\n",
       "1                             Roy Moore   \n",
       "2                       Hunter Richards   \n",
       "3                           Sarah Thorp   \n",
       "4                    Jennifer Westfeldt   \n",
       "\n",
       "                                         Actors   \n",
       "0  Blake Lively, Michiel Huisman, Harrison Ford  \\\n",
       "1     Olivia Hussey, Keir Dullea, Margot Kidder   \n",
       "2      Jessica Biel, Chris Evans, Jason Statham   \n",
       "3   Ashley Judd, Samuel L. Jackson, Andy Garcia   \n",
       "4  Jennifer Westfeldt, Adam Scott, Maya Rudolph   \n",
       "\n",
       "                                                Plot   \n",
       "0  A young woman, born at the turn of the 20th ce...  \\\n",
       "1  During their Christmas break, a group of soror...   \n",
       "2  At a drug laden party in a New York loft, a yo...   \n",
       "3  Jessica, whose father killed her mother and co...   \n",
       "4  Two best friends decide to have a child togeth...   \n",
       "\n",
       "                       Language                        Country   \n",
       "0  English, Portuguese, Italian          United States, Canada  \\\n",
       "1                English, Latin                         Canada   \n",
       "2                       English  United Kingdom, United States   \n",
       "3     English, Italian, Spanish         United States, Germany   \n",
       "4                       English                  United States   \n",
       "\n",
       "                       Awards   \n",
       "0      1 win & 10 nominations  \\\n",
       "1      3 wins & 2 nominations   \n",
       "2  1 win & 1 nomination total   \n",
       "3                       1 win   \n",
       "4               2 nominations   \n",
       "\n",
       "                                              Poster Metascore   \n",
       "0  https://m.media-amazon.com/images/M/MV5BMTAzMT...        51  \\\n",
       "1  https://m.media-amazon.com/images/M/MV5BZjdiMz...        65   \n",
       "2  https://m.media-amazon.com/images/M/MV5BMTc5Mz...        24   \n",
       "3  https://m.media-amazon.com/images/M/MV5BMGJhNj...        26   \n",
       "4  https://m.media-amazon.com/images/M/MV5BMjIyMD...        55   \n",
       "\n",
       "                                             Ratings  \n",
       "0  [{'Source': 'Internet Movie Database', 'Value'...  \n",
       "1  [{'Source': 'Internet Movie Database', 'Value'...  \n",
       "2  [{'Source': 'Internet Movie Database', 'Value'...  \n",
       "3  [{'Source': 'Internet Movie Database', 'Value'...  \n",
       "4  [{'Source': 'Internet Movie Database', 'Value'...  "
      ]
     },
     "execution_count": 12,
     "metadata": {},
     "output_type": "execute_result"
    }
   ],
   "source": [
    "movies.head()"
   ]
  },
  {
   "cell_type": "code",
   "execution_count": 13,
   "id": "c7206554-ce96-44c7-b4cc-139ceefaa4ee",
   "metadata": {
    "tags": []
   },
   "outputs": [
    {
     "name": "stdout",
     "output_type": "stream",
     "text": [
      "<class 'pandas.core.frame.DataFrame'>\n",
      "RangeIndex: 150 entries, 0 to 149\n",
      "Data columns (total 19 columns):\n",
      " #   Column       Non-Null Count  Dtype \n",
      "---  ------       --------------  ----- \n",
      " 0   Title        150 non-null    object\n",
      " 1   Year         149 non-null    object\n",
      " 2   Rated        149 non-null    object\n",
      " 3   Runtime      149 non-null    object\n",
      " 4   IMDB_Rating  149 non-null    object\n",
      " 5   IMDB_Votes   149 non-null    object\n",
      " 6   Box_Office   149 non-null    object\n",
      " 7   Released     149 non-null    object\n",
      " 8   Genre        149 non-null    object\n",
      " 9   Director     149 non-null    object\n",
      " 10  Writer       149 non-null    object\n",
      " 11  Actors       149 non-null    object\n",
      " 12  Plot         149 non-null    object\n",
      " 13  Language     149 non-null    object\n",
      " 14  Country      149 non-null    object\n",
      " 15  Awards       149 non-null    object\n",
      " 16  Poster       149 non-null    object\n",
      " 17  Metascore    149 non-null    object\n",
      " 18  Ratings      149 non-null    object\n",
      "dtypes: object(19)\n",
      "memory usage: 22.4+ KB\n"
     ]
    }
   ],
   "source": [
    "movies.info()"
   ]
  },
  {
   "cell_type": "code",
   "execution_count": 14,
   "id": "fa10429a-1cc0-4f6b-a77c-3c3050aa02f3",
   "metadata": {
    "tags": []
   },
   "outputs": [],
   "source": [
    "# save omdb data in file\n",
    "movies.to_excel(\"omdb-data.xlsx\", index=False)"
   ]
  },
  {
   "cell_type": "code",
   "execution_count": 121,
   "id": "87862e78-652e-42f0-a06a-d8e28467eed6",
   "metadata": {
    "tags": []
   },
   "outputs": [],
   "source": [
    "movies_df = pd.read_excel(\"omdb-data.xlsx\")"
   ]
  },
  {
   "cell_type": "code",
   "execution_count": 122,
   "id": "968d27b8-b39a-4bca-82d2-a9da387f1c55",
   "metadata": {
    "tags": []
   },
   "outputs": [
    {
     "name": "stdout",
     "output_type": "stream",
     "text": [
      "<class 'pandas.core.frame.DataFrame'>\n",
      "RangeIndex: 150 entries, 0 to 149\n",
      "Data columns (total 19 columns):\n",
      " #   Column       Non-Null Count  Dtype  \n",
      "---  ------       --------------  -----  \n",
      " 0   Title        150 non-null    object \n",
      " 1   Year         149 non-null    float64\n",
      " 2   Rated        146 non-null    object \n",
      " 3   Runtime      149 non-null    object \n",
      " 4   IMDB_Rating  149 non-null    float64\n",
      " 5   IMDB_Votes   149 non-null    object \n",
      " 6   Box_Office   114 non-null    object \n",
      " 7   Released     149 non-null    object \n",
      " 8   Genre        149 non-null    object \n",
      " 9   Director     149 non-null    object \n",
      " 10  Writer       149 non-null    object \n",
      " 11  Actors       149 non-null    object \n",
      " 12  Plot         149 non-null    object \n",
      " 13  Language     148 non-null    object \n",
      " 14  Country      149 non-null    object \n",
      " 15  Awards       128 non-null    object \n",
      " 16  Poster       149 non-null    object \n",
      " 17  Metascore    131 non-null    float64\n",
      " 18  Ratings      149 non-null    object \n",
      "dtypes: float64(3), object(16)\n",
      "memory usage: 22.4+ KB\n"
     ]
    }
   ],
   "source": [
    "movies_df.info()"
   ]
  },
  {
   "cell_type": "code",
   "execution_count": 123,
   "id": "934aa1f0-e234-427a-ba96-756bc607de39",
   "metadata": {
    "tags": []
   },
   "outputs": [
    {
     "data": {
      "text/plain": [
       "Title           0\n",
       "Year            1\n",
       "Rated           4\n",
       "Runtime         1\n",
       "IMDB_Rating     1\n",
       "IMDB_Votes      1\n",
       "Box_Office     36\n",
       "Released        1\n",
       "Genre           1\n",
       "Director        1\n",
       "Writer          1\n",
       "Actors          1\n",
       "Plot            1\n",
       "Language        2\n",
       "Country         1\n",
       "Awards         22\n",
       "Poster          1\n",
       "Metascore      19\n",
       "Ratings         1\n",
       "dtype: int64"
      ]
     },
     "execution_count": 123,
     "metadata": {},
     "output_type": "execute_result"
    }
   ],
   "source": [
    "movies_df.isnull().sum()"
   ]
  },
  {
   "cell_type": "code",
   "execution_count": 124,
   "id": "b792610f-0d2d-4c43-b824-358df1581838",
   "metadata": {
    "tags": []
   },
   "outputs": [],
   "source": [
    "# standardize column names\n",
    "movies_df.columns = movies_df.columns.str.strip().str.lower().str.replace(' ', '_')"
   ]
  },
  {
   "cell_type": "code",
   "execution_count": 125,
   "id": "0eb9885e-2be7-4fc0-8df3-e30fe4474185",
   "metadata": {
    "tags": []
   },
   "outputs": [
    {
     "data": {
      "text/plain": [
       "array(['PG-13', 'R', 'Not Rated', 'PG', 'Unrated', nan, 'G', 'TV-G',\n",
       "       'TV-MA', 'TV-14', 'Approved', 'TV-PG', 'NC-17'], dtype=object)"
      ]
     },
     "execution_count": 125,
     "metadata": {},
     "output_type": "execute_result"
    }
   ],
   "source": [
    "# unique values in the rated column\n",
    "movies_df['rated'].unique()"
   ]
  },
  {
   "cell_type": "code",
   "execution_count": 126,
   "id": "37ff6d8f-2293-409d-bebb-85ecb1ec501d",
   "metadata": {
    "tags": []
   },
   "outputs": [],
   "source": [
    "# fill missing values\n",
    "movies_df['rated'] = movies_df['rated'].replace('Not Rated', 'Unrated')\n",
    "movies_df['rated'] = movies_df['rated'].fillna('Not Rated')"
   ]
  },
  {
   "cell_type": "code",
   "execution_count": 127,
   "id": "3e345de2-0313-4045-842b-326bddb93268",
   "metadata": {
    "tags": []
   },
   "outputs": [],
   "source": [
    "movies_df['awards'] = movies_df['awards'].fillna('No wins.')"
   ]
  },
  {
   "cell_type": "code",
   "execution_count": 128,
   "id": "4456b857-6f4c-4906-ab48-ad2ed937e6a9",
   "metadata": {
    "tags": []
   },
   "outputs": [],
   "source": [
    "movies_df['metascore'] = movies_df['metascore'].fillna(-1)"
   ]
  },
  {
   "cell_type": "code",
   "execution_count": 129,
   "id": "4d928272-1c99-4d7e-8474-24176dba95dc",
   "metadata": {
    "tags": []
   },
   "outputs": [
    {
     "data": {
      "text/plain": [
       "title           0\n",
       "year            1\n",
       "rated           0\n",
       "runtime         1\n",
       "imdb_rating     1\n",
       "imdb_votes      1\n",
       "box_office     36\n",
       "released        1\n",
       "genre           1\n",
       "director        1\n",
       "writer          1\n",
       "actors          1\n",
       "plot            1\n",
       "language        2\n",
       "country         1\n",
       "awards          0\n",
       "poster          1\n",
       "metascore       0\n",
       "ratings         1\n",
       "dtype: int64"
      ]
     },
     "execution_count": 129,
     "metadata": {},
     "output_type": "execute_result"
    }
   ],
   "source": [
    "movies_df.isnull().sum()"
   ]
  },
  {
   "cell_type": "code",
   "execution_count": 130,
   "id": "15ec581b-b4f7-4242-b448-2c85e19b80a9",
   "metadata": {
    "tags": []
   },
   "outputs": [],
   "source": [
    "movies_df = movies_df.dropna(subset=movies_df.columns.difference(['box_office']))"
   ]
  },
  {
   "cell_type": "code",
   "execution_count": 131,
   "id": "a4f18921-ab87-4ae2-abf1-e70bd9e32726",
   "metadata": {
    "tags": []
   },
   "outputs": [
    {
     "data": {
      "text/plain": [
       "title           0\n",
       "year            0\n",
       "rated           0\n",
       "runtime         0\n",
       "imdb_rating     0\n",
       "imdb_votes      0\n",
       "box_office     34\n",
       "released        0\n",
       "genre           0\n",
       "director        0\n",
       "writer          0\n",
       "actors          0\n",
       "plot            0\n",
       "language        0\n",
       "country         0\n",
       "awards          0\n",
       "poster          0\n",
       "metascore       0\n",
       "ratings         0\n",
       "dtype: int64"
      ]
     },
     "execution_count": 131,
     "metadata": {},
     "output_type": "execute_result"
    }
   ],
   "source": [
    "movies_df.isnull().sum()"
   ]
  },
  {
   "cell_type": "code",
   "execution_count": 132,
   "id": "fd94109d-0395-479d-abb1-45faef2c5a19",
   "metadata": {
    "tags": []
   },
   "outputs": [],
   "source": [
    "# correct datatypes\n",
    "movies_df['year'] = movies_df['year'].astype(int)\n",
    "movies_df['runtime'] = movies_df['runtime'].str.extract('(\\d+)').astype(int)\n",
    "movies_df['imdb_votes'] = movies_df['imdb_votes'].str.replace(',', '').astype(int)\n",
    "movies_df['metascore'] = movies_df['metascore'].astype(int)"
   ]
  },
  {
   "cell_type": "code",
   "execution_count": 133,
   "id": "0862d067-a275-4b76-961c-eadb9e32ff37",
   "metadata": {
    "tags": []
   },
   "outputs": [
    {
     "name": "stdout",
     "output_type": "stream",
     "text": [
      "movies where box office earnings are not available: 34\n"
     ]
    }
   ],
   "source": [
    "# find movies where box office earnings are not available\n",
    "boxoffice_na = movies_df[movies_df['box_office'].isnull()]\n",
    "box_office_na_count = boxoffice_na.shape[0]\n",
    "print(f'movies where box office earnings are not available: {box_office_na_count}')"
   ]
  },
  {
   "cell_type": "code",
   "execution_count": 134,
   "id": "a8f40883-5c6b-4c64-a125-df96b9f45318",
   "metadata": {
    "tags": []
   },
   "outputs": [
    {
     "name": "stdout",
     "output_type": "stream",
     "text": [
      "movies released before 2006: 55\n"
     ]
    }
   ],
   "source": [
    "# find movies where released before 2006\n",
    "before06 = movies_df[movies_df['year'] < 2006]\n",
    "before06_count = before06.shape[0]\n",
    "print(f'movies released before 2006: {before06_count}')"
   ]
  },
  {
   "cell_type": "code",
   "execution_count": 135,
   "id": "6f6ab606-f5b9-4e74-ac0d-72f294550e32",
   "metadata": {
    "tags": []
   },
   "outputs": [],
   "source": [
    "# movies with box office earnings\n",
    "movies_df_bo = movies_df.dropna(subset=['box_office'])\n",
    "# movies released after 2006\n",
    "movies_df_06 = movies_df[movies_df['year'] < 2006]"
   ]
  },
  {
   "cell_type": "code",
   "execution_count": 136,
   "id": "a6dbf152-37b7-4c2a-87b9-183505e4db75",
   "metadata": {
    "tags": []
   },
   "outputs": [],
   "source": [
    "movies_df_bo_06 = movies_df_bo[movies_df_bo['year'] < 2006]"
   ]
  },
  {
   "cell_type": "code",
   "execution_count": 137,
   "id": "57ea42a7-b900-4db0-a210-31008803ac33",
   "metadata": {
    "tags": []
   },
   "outputs": [],
   "source": [
    "movies_df['box_office'] = movies_df['box_office'].fillna('No Info')"
   ]
  },
  {
   "cell_type": "code",
   "execution_count": 138,
   "id": "6ebf66d3-afe8-4319-b4b3-91be16096129",
   "metadata": {
    "tags": []
   },
   "outputs": [
    {
     "name": "stdout",
     "output_type": "stream",
     "text": [
      "<class 'pandas.core.frame.DataFrame'>\n",
      "Index: 148 entries, 0 to 149\n",
      "Data columns (total 19 columns):\n",
      " #   Column       Non-Null Count  Dtype  \n",
      "---  ------       --------------  -----  \n",
      " 0   title        148 non-null    object \n",
      " 1   year         148 non-null    int64  \n",
      " 2   rated        148 non-null    object \n",
      " 3   runtime      148 non-null    int64  \n",
      " 4   imdb_rating  148 non-null    float64\n",
      " 5   imdb_votes   148 non-null    int64  \n",
      " 6   box_office   148 non-null    object \n",
      " 7   released     148 non-null    object \n",
      " 8   genre        148 non-null    object \n",
      " 9   director     148 non-null    object \n",
      " 10  writer       148 non-null    object \n",
      " 11  actors       148 non-null    object \n",
      " 12  plot         148 non-null    object \n",
      " 13  language     148 non-null    object \n",
      " 14  country      148 non-null    object \n",
      " 15  awards       148 non-null    object \n",
      " 16  poster       148 non-null    object \n",
      " 17  metascore    148 non-null    int64  \n",
      " 18  ratings      148 non-null    object \n",
      "dtypes: float64(1), int64(4), object(14)\n",
      "memory usage: 23.1+ KB\n"
     ]
    }
   ],
   "source": [
    "movies_df.info()"
   ]
  },
  {
   "cell_type": "code",
   "execution_count": 139,
   "id": "c7b6f657-3cac-4136-970f-a8d025e1d56e",
   "metadata": {
    "tags": []
   },
   "outputs": [
    {
     "name": "stdout",
     "output_type": "stream",
     "text": [
      "<class 'pandas.core.frame.DataFrame'>\n",
      "Index: 52 entries, 2 to 143\n",
      "Data columns (total 19 columns):\n",
      " #   Column       Non-Null Count  Dtype  \n",
      "---  ------       --------------  -----  \n",
      " 0   title        52 non-null     object \n",
      " 1   year         52 non-null     int64  \n",
      " 2   rated        52 non-null     object \n",
      " 3   runtime      52 non-null     int64  \n",
      " 4   imdb_rating  52 non-null     float64\n",
      " 5   imdb_votes   52 non-null     int64  \n",
      " 6   box_office   52 non-null     object \n",
      " 7   released     52 non-null     object \n",
      " 8   genre        52 non-null     object \n",
      " 9   director     52 non-null     object \n",
      " 10  writer       52 non-null     object \n",
      " 11  actors       52 non-null     object \n",
      " 12  plot         52 non-null     object \n",
      " 13  language     52 non-null     object \n",
      " 14  country      52 non-null     object \n",
      " 15  awards       52 non-null     object \n",
      " 16  poster       52 non-null     object \n",
      " 17  metascore    52 non-null     int64  \n",
      " 18  ratings      52 non-null     object \n",
      "dtypes: float64(1), int64(4), object(14)\n",
      "memory usage: 8.1+ KB\n"
     ]
    }
   ],
   "source": [
    "movies_df_bo_06.info()"
   ]
  },
  {
   "cell_type": "code",
   "execution_count": 140,
   "id": "6541c061-18d4-4f52-8f31-47d8be550b7b",
   "metadata": {
    "tags": []
   },
   "outputs": [
    {
     "data": {
      "text/html": [
       "<div>\n",
       "<style scoped>\n",
       "    .dataframe tbody tr th:only-of-type {\n",
       "        vertical-align: middle;\n",
       "    }\n",
       "\n",
       "    .dataframe tbody tr th {\n",
       "        vertical-align: top;\n",
       "    }\n",
       "\n",
       "    .dataframe thead th {\n",
       "        text-align: right;\n",
       "    }\n",
       "</style>\n",
       "<table border=\"1\" class=\"dataframe\">\n",
       "  <thead>\n",
       "    <tr style=\"text-align: right;\">\n",
       "      <th></th>\n",
       "      <th>title</th>\n",
       "      <th>year</th>\n",
       "      <th>rated</th>\n",
       "      <th>runtime</th>\n",
       "      <th>imdb_rating</th>\n",
       "      <th>imdb_votes</th>\n",
       "      <th>box_office</th>\n",
       "      <th>released</th>\n",
       "      <th>genre</th>\n",
       "      <th>director</th>\n",
       "      <th>writer</th>\n",
       "      <th>actors</th>\n",
       "      <th>plot</th>\n",
       "      <th>language</th>\n",
       "      <th>country</th>\n",
       "      <th>awards</th>\n",
       "      <th>poster</th>\n",
       "      <th>metascore</th>\n",
       "      <th>ratings</th>\n",
       "    </tr>\n",
       "  </thead>\n",
       "  <tbody>\n",
       "    <tr>\n",
       "      <th>2</th>\n",
       "      <td>London</td>\n",
       "      <td>2005</td>\n",
       "      <td>R</td>\n",
       "      <td>92</td>\n",
       "      <td>6.3</td>\n",
       "      <td>25119</td>\n",
       "      <td>$20,361</td>\n",
       "      <td>03 Jul 2021</td>\n",
       "      <td>Drama, Romance</td>\n",
       "      <td>Hunter Richards</td>\n",
       "      <td>Hunter Richards</td>\n",
       "      <td>Jessica Biel, Chris Evans, Jason Statham</td>\n",
       "      <td>At a drug laden party in a New York loft, a yo...</td>\n",
       "      <td>English</td>\n",
       "      <td>United Kingdom, United States</td>\n",
       "      <td>1 win &amp; 1 nomination total</td>\n",
       "      <td>https://m.media-amazon.com/images/M/MV5BMTc5Mz...</td>\n",
       "      <td>24</td>\n",
       "      <td>[{'Source': 'Internet Movie Database', 'Value'...</td>\n",
       "    </tr>\n",
       "    <tr>\n",
       "      <th>3</th>\n",
       "      <td>Twisted</td>\n",
       "      <td>2004</td>\n",
       "      <td>R</td>\n",
       "      <td>97</td>\n",
       "      <td>5.3</td>\n",
       "      <td>23599</td>\n",
       "      <td>$25,198,598</td>\n",
       "      <td>27 Feb 2004</td>\n",
       "      <td>Crime, Drama, Mystery</td>\n",
       "      <td>Philip Kaufman</td>\n",
       "      <td>Sarah Thorp</td>\n",
       "      <td>Ashley Judd, Samuel L. Jackson, Andy Garcia</td>\n",
       "      <td>Jessica, whose father killed her mother and co...</td>\n",
       "      <td>English, Italian, Spanish</td>\n",
       "      <td>United States, Germany</td>\n",
       "      <td>1 win</td>\n",
       "      <td>https://m.media-amazon.com/images/M/MV5BMGJhNj...</td>\n",
       "      <td>26</td>\n",
       "      <td>[{'Source': 'Internet Movie Database', 'Value'...</td>\n",
       "    </tr>\n",
       "    <tr>\n",
       "      <th>12</th>\n",
       "      <td>Me, Myself &amp; Irene</td>\n",
       "      <td>2000</td>\n",
       "      <td>R</td>\n",
       "      <td>116</td>\n",
       "      <td>6.6</td>\n",
       "      <td>255879</td>\n",
       "      <td>$90,570,999</td>\n",
       "      <td>23 Jun 2000</td>\n",
       "      <td>Comedy</td>\n",
       "      <td>Bobby Farrelly, Peter Farrelly</td>\n",
       "      <td>Peter Farrelly, Mike Cerrone, Bobby Farrelly</td>\n",
       "      <td>Jim Carrey, Renée Zellweger, Anthony Anderson</td>\n",
       "      <td>A nice-guy cop with Dissociative Identity Diso...</td>\n",
       "      <td>English, German</td>\n",
       "      <td>United States</td>\n",
       "      <td>2 wins &amp; 4 nominations total</td>\n",
       "      <td>https://m.media-amazon.com/images/M/MV5BZjEzYT...</td>\n",
       "      <td>49</td>\n",
       "      <td>[{'Source': 'Internet Movie Database', 'Value'...</td>\n",
       "    </tr>\n",
       "    <tr>\n",
       "      <th>14</th>\n",
       "      <td>The Fly</td>\n",
       "      <td>1986</td>\n",
       "      <td>R</td>\n",
       "      <td>96</td>\n",
       "      <td>7.6</td>\n",
       "      <td>211745</td>\n",
       "      <td>$40,456,565</td>\n",
       "      <td>15 Aug 1986</td>\n",
       "      <td>Drama, Horror, Sci-Fi</td>\n",
       "      <td>David Cronenberg</td>\n",
       "      <td>George Langelaan, Charles Edward Pogue, David ...</td>\n",
       "      <td>Jeff Goldblum, Geena Davis, John Getz</td>\n",
       "      <td>A brilliant but eccentric scientist begins to ...</td>\n",
       "      <td>English</td>\n",
       "      <td>United States, Canada</td>\n",
       "      <td>Won 1 Oscar. 7 wins &amp; 10 nominations total</td>\n",
       "      <td>https://m.media-amazon.com/images/M/MV5BOTBlNT...</td>\n",
       "      <td>81</td>\n",
       "      <td>[{'Source': 'Internet Movie Database', 'Value'...</td>\n",
       "    </tr>\n",
       "    <tr>\n",
       "      <th>19</th>\n",
       "      <td>Where The Truth Lies</td>\n",
       "      <td>2005</td>\n",
       "      <td>Unrated</td>\n",
       "      <td>107</td>\n",
       "      <td>6.4</td>\n",
       "      <td>18962</td>\n",
       "      <td>$872,142</td>\n",
       "      <td>07 Oct 2005</td>\n",
       "      <td>Crime, Mystery, Thriller</td>\n",
       "      <td>Atom Egoyan</td>\n",
       "      <td>Atom Egoyan, Rupert Holmes</td>\n",
       "      <td>Kevin Bacon, Colin Firth, Alison Lohman</td>\n",
       "      <td>Karen O'Connor, a young journalist known for h...</td>\n",
       "      <td>English, Cantonese</td>\n",
       "      <td>Canada</td>\n",
       "      <td>2 wins &amp; 10 nominations</td>\n",
       "      <td>https://m.media-amazon.com/images/M/MV5BMTI2Nz...</td>\n",
       "      <td>47</td>\n",
       "      <td>[{'Source': 'Internet Movie Database', 'Value'...</td>\n",
       "    </tr>\n",
       "  </tbody>\n",
       "</table>\n",
       "</div>"
      ],
      "text/plain": [
       "                   title  year    rated  runtime  imdb_rating  imdb_votes   \n",
       "2                 London  2005        R       92          6.3       25119  \\\n",
       "3                Twisted  2004        R       97          5.3       23599   \n",
       "12    Me, Myself & Irene  2000        R      116          6.6      255879   \n",
       "14               The Fly  1986        R       96          7.6      211745   \n",
       "19  Where The Truth Lies  2005  Unrated      107          6.4       18962   \n",
       "\n",
       "     box_office     released                     genre   \n",
       "2       $20,361  03 Jul 2021            Drama, Romance  \\\n",
       "3   $25,198,598  27 Feb 2004     Crime, Drama, Mystery   \n",
       "12  $90,570,999  23 Jun 2000                    Comedy   \n",
       "14  $40,456,565  15 Aug 1986     Drama, Horror, Sci-Fi   \n",
       "19     $872,142  07 Oct 2005  Crime, Mystery, Thriller   \n",
       "\n",
       "                          director   \n",
       "2                  Hunter Richards  \\\n",
       "3                   Philip Kaufman   \n",
       "12  Bobby Farrelly, Peter Farrelly   \n",
       "14                David Cronenberg   \n",
       "19                     Atom Egoyan   \n",
       "\n",
       "                                               writer   \n",
       "2                                     Hunter Richards  \\\n",
       "3                                         Sarah Thorp   \n",
       "12       Peter Farrelly, Mike Cerrone, Bobby Farrelly   \n",
       "14  George Langelaan, Charles Edward Pogue, David ...   \n",
       "19                         Atom Egoyan, Rupert Holmes   \n",
       "\n",
       "                                           actors   \n",
       "2        Jessica Biel, Chris Evans, Jason Statham  \\\n",
       "3     Ashley Judd, Samuel L. Jackson, Andy Garcia   \n",
       "12  Jim Carrey, Renée Zellweger, Anthony Anderson   \n",
       "14          Jeff Goldblum, Geena Davis, John Getz   \n",
       "19        Kevin Bacon, Colin Firth, Alison Lohman   \n",
       "\n",
       "                                                 plot   \n",
       "2   At a drug laden party in a New York loft, a yo...  \\\n",
       "3   Jessica, whose father killed her mother and co...   \n",
       "12  A nice-guy cop with Dissociative Identity Diso...   \n",
       "14  A brilliant but eccentric scientist begins to ...   \n",
       "19  Karen O'Connor, a young journalist known for h...   \n",
       "\n",
       "                     language                        country   \n",
       "2                     English  United Kingdom, United States  \\\n",
       "3   English, Italian, Spanish         United States, Germany   \n",
       "12            English, German                  United States   \n",
       "14                    English          United States, Canada   \n",
       "19         English, Cantonese                         Canada   \n",
       "\n",
       "                                        awards   \n",
       "2                   1 win & 1 nomination total  \\\n",
       "3                                        1 win   \n",
       "12                2 wins & 4 nominations total   \n",
       "14  Won 1 Oscar. 7 wins & 10 nominations total   \n",
       "19                     2 wins & 10 nominations   \n",
       "\n",
       "                                               poster  metascore   \n",
       "2   https://m.media-amazon.com/images/M/MV5BMTc5Mz...         24  \\\n",
       "3   https://m.media-amazon.com/images/M/MV5BMGJhNj...         26   \n",
       "12  https://m.media-amazon.com/images/M/MV5BZjEzYT...         49   \n",
       "14  https://m.media-amazon.com/images/M/MV5BOTBlNT...         81   \n",
       "19  https://m.media-amazon.com/images/M/MV5BMTI2Nz...         47   \n",
       "\n",
       "                                              ratings  \n",
       "2   [{'Source': 'Internet Movie Database', 'Value'...  \n",
       "3   [{'Source': 'Internet Movie Database', 'Value'...  \n",
       "12  [{'Source': 'Internet Movie Database', 'Value'...  \n",
       "14  [{'Source': 'Internet Movie Database', 'Value'...  \n",
       "19  [{'Source': 'Internet Movie Database', 'Value'...  "
      ]
     },
     "execution_count": 140,
     "metadata": {},
     "output_type": "execute_result"
    }
   ],
   "source": [
    "movies_df_bo_06.head()"
   ]
  },
  {
   "cell_type": "code",
   "execution_count": 142,
   "id": "db19ba7d-f3e9-41d4-a2cd-d3c624c41bd9",
   "metadata": {
    "tags": []
   },
   "outputs": [],
   "source": [
    "# turn box office values to int format\n",
    "movies_df_bo = movies_df_bo.copy()\n",
    "movies_df_bo.loc[:, 'box_office'] = movies_df_bo['box_office'].replace({'\\$': '', ',': ''}, regex=True).astype(int)\n",
    "movies_df_bo_06 = movies_df_bo_06.copy()\n",
    "movies_df_bo_06['box_office'] = movies_df_bo_06['box_office'].replace({'\\$': '', ',': ''}, regex=True).astype(int)"
   ]
  },
  {
   "cell_type": "code",
   "execution_count": 72,
   "id": "348ec366-47c6-4b99-9ed9-22ad2f52d25e",
   "metadata": {
    "tags": []
   },
   "outputs": [],
   "source": [
    "# initialize pytrends\n",
    "# from pytrends.request import TrendReq\n",
    "# from datetime import datetime, timedelta\n",
    "\n",
    "# pytrends = TrendReq(hl='en-US', tz=360)"
   ]
  },
  {
   "cell_type": "code",
   "execution_count": 73,
   "id": "5111e83d-de7b-460b-8658-79283762e6ce",
   "metadata": {
    "tags": []
   },
   "outputs": [],
   "source": [
    "# initialize trendspy\n",
    "import requests\n",
    "import time\n",
    "from trendspy import Trends\n",
    "\n",
    "tr = Trends(request_delay=10.0)"
   ]
  },
  {
   "cell_type": "code",
   "execution_count": 75,
   "id": "f18eaa43-4c0d-4c59-b4ae-74ede7533e79",
   "metadata": {
    "tags": []
   },
   "outputs": [],
   "source": [
    "# function to get data from google trends\n",
    "def get_googletrends_data(tr, movie_title, release_date):\n",
    "    # convert release date to datetime format\n",
    "    release_date = datetime.strptime(release_date, \"%d %b %Y\")\n",
    "    release_date = release_date.strftime(\"%Y-%m-%d\")\n",
    "    \n",
    "    # timeframe string\n",
    "    timeframe = f'{release_date} 1-y'\n",
    "    \n",
    "    # get number of movie searches\n",
    "    interest_data = tr.interest_over_time(movie_title, timeframe=timeframe)\n",
    "    \n",
    "    if not interest_data.empty:\n",
    "        # get total number of searches in timeframe\n",
    "        total_searches = interest_data[movie_title].sum()\n",
    "        return total_searches\n",
    "    else:\n",
    "        return 0"
   ]
  },
  {
   "cell_type": "code",
   "execution_count": 62,
   "id": "55089b74-aa91-48ba-afe9-1671bdde9bef",
   "metadata": {
    "tags": []
   },
   "outputs": [
    {
     "name": "stdout",
     "output_type": "stream",
     "text": [
      "Processing movie 3/52: London\n",
      "\n",
      "Warning: Too many rate limit errors (429). Consider increasing request_delay to Trends(request_delay=240.0) before Google implements a long-term rate limit!\n"
     ]
    },
    {
     "ename": "HTTPError",
     "evalue": "429 Client Error: unknown for url: https://trends.google.com/trends/api/widgetdata/multiline?req=%7B%22time%22%3A+%222020-07-02+2021-07-03%22%2C+%22resolution%22%3A+%22WEEK%22%2C+%22locale%22%3A+%22en-US%22%2C+%22comparisonItem%22%3A+%5B%7B%22geo%22%3A+%7B%7D%2C+%22complexKeywordsRestriction%22%3A+%7B%22keyword%22%3A+%5B%7B%22type%22%3A+%22BROAD%22%2C+%22value%22%3A+%22London%22%7D%5D%7D%7D%5D%2C+%22requestOptions%22%3A+%7B%22property%22%3A+%22%22%2C+%22backend%22%3A+%22IZG%22%2C+%22category%22%3A+0%7D%2C+%22userConfig%22%3A+%7B%22userType%22%3A+%22USER_TYPE_EMBED_OVER_QUOTA%22%7D%7D&token=APP6_UEAAAAAZ7X0Rnw5slQ9RhMa8w7L3xwlFpdYtwz_&hl=en&tz=360",
     "output_type": "error",
     "traceback": [
      "\u001b[0;31m---------------------------------------------------------------------------\u001b[0m",
      "\u001b[0;31mHTTPError\u001b[0m                                 Traceback (most recent call last)",
      "Cell \u001b[0;32mIn[62], line 7\u001b[0m\n\u001b[1;32m      5\u001b[0m \u001b[38;5;28;01mfor\u001b[39;00m index, row \u001b[38;5;129;01min\u001b[39;00m movies_df_cleaned\u001b[38;5;241m.\u001b[39miterrows():\n\u001b[1;32m      6\u001b[0m     \u001b[38;5;28mprint\u001b[39m(\u001b[38;5;124mf\u001b[39m\u001b[38;5;124m\"\u001b[39m\u001b[38;5;124mProcessing movie \u001b[39m\u001b[38;5;132;01m{\u001b[39;00mindex\u001b[38;5;250m \u001b[39m\u001b[38;5;241m+\u001b[39m\u001b[38;5;250m \u001b[39m\u001b[38;5;241m1\u001b[39m\u001b[38;5;132;01m}\u001b[39;00m\u001b[38;5;124m/\u001b[39m\u001b[38;5;132;01m{\u001b[39;00m\u001b[38;5;28mlen\u001b[39m(movies_df_cleaned)\u001b[38;5;132;01m}\u001b[39;00m\u001b[38;5;124m: \u001b[39m\u001b[38;5;132;01m{\u001b[39;00mrow[\u001b[38;5;124m'\u001b[39m\u001b[38;5;124mTitle\u001b[39m\u001b[38;5;124m'\u001b[39m]\u001b[38;5;132;01m}\u001b[39;00m\u001b[38;5;124m\"\u001b[39m)\n\u001b[0;32m----> 7\u001b[0m     search_count \u001b[38;5;241m=\u001b[39m \u001b[43mget_googletrends_data\u001b[49m\u001b[43m(\u001b[49m\u001b[43mtr\u001b[49m\u001b[43m,\u001b[49m\u001b[43m \u001b[49m\u001b[43mrow\u001b[49m\u001b[43m[\u001b[49m\u001b[38;5;124;43m'\u001b[39;49m\u001b[38;5;124;43mTitle\u001b[39;49m\u001b[38;5;124;43m'\u001b[39;49m\u001b[43m]\u001b[49m\u001b[43m,\u001b[49m\u001b[43m \u001b[49m\u001b[43mrow\u001b[49m\u001b[43m[\u001b[49m\u001b[38;5;124;43m'\u001b[39;49m\u001b[38;5;124;43mReleased\u001b[39;49m\u001b[38;5;124;43m'\u001b[39;49m\u001b[43m]\u001b[49m\u001b[43m)\u001b[49m\n\u001b[1;32m      8\u001b[0m     \u001b[38;5;28;01mif\u001b[39;00m search_count:\n\u001b[1;32m      9\u001b[0m         search_counts\u001b[38;5;241m.\u001b[39mappend(search_count)\n",
      "Cell \u001b[0;32mIn[61], line 11\u001b[0m, in \u001b[0;36mget_googletrends_data\u001b[0;34m(tr, movie_title, release_date)\u001b[0m\n\u001b[1;32m      8\u001b[0m timeframe \u001b[38;5;241m=\u001b[39m \u001b[38;5;124mf\u001b[39m\u001b[38;5;124m'\u001b[39m\u001b[38;5;132;01m{\u001b[39;00mrelease_date\u001b[38;5;132;01m}\u001b[39;00m\u001b[38;5;124m 1-y\u001b[39m\u001b[38;5;124m'\u001b[39m\n\u001b[1;32m     10\u001b[0m \u001b[38;5;66;03m# get number of movie searches\u001b[39;00m\n\u001b[0;32m---> 11\u001b[0m interest_data \u001b[38;5;241m=\u001b[39m \u001b[43mtr\u001b[49m\u001b[38;5;241;43m.\u001b[39;49m\u001b[43minterest_over_time\u001b[49m\u001b[43m(\u001b[49m\u001b[43mmovie_title\u001b[49m\u001b[43m,\u001b[49m\u001b[43m \u001b[49m\u001b[43mtimeframe\u001b[49m\u001b[38;5;241;43m=\u001b[39;49m\u001b[43mtimeframe\u001b[49m\u001b[43m)\u001b[49m\n\u001b[1;32m     13\u001b[0m \u001b[38;5;28;01mif\u001b[39;00m \u001b[38;5;129;01mnot\u001b[39;00m interest_data\u001b[38;5;241m.\u001b[39mempty:\n\u001b[1;32m     14\u001b[0m     \u001b[38;5;66;03m# get total number of searches in timeframe\u001b[39;00m\n\u001b[1;32m     15\u001b[0m     total_searches \u001b[38;5;241m=\u001b[39m interest_data[movie_title]\u001b[38;5;241m.\u001b[39msum()\n",
      "File \u001b[0;32m/usr/local/lib/python3.11/site-packages/trendspy/client.py:372\u001b[0m, in \u001b[0;36mTrends.interest_over_time\u001b[0;34m(self, keywords, timeframe, geo, cat, gprop, return_raw, headers)\u001b[0m\n\u001b[1;32m    369\u001b[0m check_timeframe_resolution(timeframe)\n\u001b[1;32m    370\u001b[0m timeframe \u001b[38;5;241m=\u001b[39m \u001b[38;5;28mlist\u001b[39m(\u001b[38;5;28mmap\u001b[39m(convert_timeframe, ensure_list(timeframe)))\n\u001b[0;32m--> 372\u001b[0m token, data \u001b[38;5;241m=\u001b[39m \u001b[38;5;28;43mself\u001b[39;49m\u001b[38;5;241;43m.\u001b[39;49m\u001b[43m_get_token_data\u001b[49m\u001b[43m(\u001b[49m\u001b[43mEMBED_TIMESERIES_URL\u001b[49m\u001b[43m,\u001b[49m\u001b[43m \u001b[49m\u001b[38;5;28;43mlocals\u001b[39;49m\u001b[43m(\u001b[49m\u001b[43m)\u001b[49m\u001b[43m,\u001b[49m\u001b[43m \u001b[49m\u001b[43mheaders\u001b[49m\u001b[38;5;241;43m=\u001b[39;49m\u001b[43mheaders\u001b[49m\u001b[43m)\u001b[49m\n\u001b[1;32m    373\u001b[0m \u001b[38;5;28;01mif\u001b[39;00m return_raw:\n\u001b[1;32m    374\u001b[0m \t\u001b[38;5;28;01mreturn\u001b[39;00m token, data\n",
      "File \u001b[0;32m/usr/local/lib/python3.11/site-packages/trendspy/client.py:311\u001b[0m, in \u001b[0;36mTrends._get_token_data\u001b[0;34m(self, url, params, request_fix, headers, raise_quota_error)\u001b[0m\n\u001b[1;32m    308\u001b[0m \t\u001b[38;5;28;01mif\u001b[39;00m user_type \u001b[38;5;241m==\u001b[39m \u001b[38;5;124m\"\u001b[39m\u001b[38;5;124mUSER_TYPE_EMBED_OVER_QUOTA\u001b[39m\u001b[38;5;124m\"\u001b[39m:\n\u001b[1;32m    309\u001b[0m \t\t\u001b[38;5;28;01mraise\u001b[39;00m TrendsQuotaExceededError()\n\u001b[0;32m--> 311\u001b[0m data \t\u001b[38;5;241m=\u001b[39m \u001b[38;5;28;43mself\u001b[39;49m\u001b[38;5;241;43m.\u001b[39;49m\u001b[43m_token_to_data\u001b[49m\u001b[43m(\u001b[49m\u001b[43mtoken\u001b[49m\u001b[43m)\u001b[49m\n\u001b[1;32m    312\u001b[0m \u001b[38;5;28;01mreturn\u001b[39;00m token, data\n",
      "File \u001b[0;32m/usr/local/lib/python3.11/site-packages/trendspy/client.py:287\u001b[0m, in \u001b[0;36mTrends._token_to_data\u001b[0;34m(self, token)\u001b[0m\n\u001b[1;32m    285\u001b[0m params\u001b[38;5;241m.\u001b[39mupdate(\u001b[38;5;28mself\u001b[39m\u001b[38;5;241m.\u001b[39m_default_params)\n\u001b[1;32m    286\u001b[0m \u001b[38;5;66;03m# req    = self.session.get(URL, params=params)\u001b[39;00m\n\u001b[0;32m--> 287\u001b[0m req    \u001b[38;5;241m=\u001b[39m \u001b[38;5;28;43mself\u001b[39;49m\u001b[38;5;241;43m.\u001b[39;49m\u001b[43m_get\u001b[49m\u001b[43m(\u001b[49m\u001b[43mURL\u001b[49m\u001b[43m,\u001b[49m\u001b[43m \u001b[49m\u001b[43mparams\u001b[49m\u001b[38;5;241;43m=\u001b[39;49m\u001b[43mparams\u001b[49m\u001b[43m)\u001b[49m\n\u001b[1;32m    288\u001b[0m data   \u001b[38;5;241m=\u001b[39m Trends\u001b[38;5;241m.\u001b[39m_parse_protected_json(req)\n\u001b[1;32m    289\u001b[0m \u001b[38;5;28;01mreturn\u001b[39;00m data\n",
      "File \u001b[0;32m/usr/local/lib/python3.11/site-packages/trendspy/client.py:264\u001b[0m, in \u001b[0;36mTrends._get\u001b[0;34m(self, url, params, headers)\u001b[0m\n\u001b[1;32m    260\u001b[0m \tcurrent_delay \u001b[38;5;241m=\u001b[39m \u001b[38;5;28mself\u001b[39m\u001b[38;5;241m.\u001b[39mrequest_delay \u001b[38;5;129;01mor\u001b[39;00m \u001b[38;5;241m1\u001b[39m\n\u001b[1;32m    261\u001b[0m \t\u001b[38;5;28mprint\u001b[39m(\u001b[38;5;124mf\u001b[39m\u001b[38;5;124m\"\u001b[39m\u001b[38;5;130;01m\\n\u001b[39;00m\u001b[38;5;124mWarning: Too many rate limit errors (429). Consider increasing request_delay \u001b[39m\u001b[38;5;124m\"\u001b[39m\n\u001b[1;32m    262\u001b[0m \t\t\u001b[38;5;124mf\u001b[39m\u001b[38;5;124m\"\u001b[39m\u001b[38;5;124mto Trends(request_delay=\u001b[39m\u001b[38;5;132;01m{\u001b[39;00mcurrent_delay\u001b[38;5;241m*\u001b[39m\u001b[38;5;241m2\u001b[39m\u001b[38;5;132;01m}\u001b[39;00m\u001b[38;5;124m) before Google implements a long-term \u001b[39m\u001b[38;5;124m\"\u001b[39m\n\u001b[1;32m    263\u001b[0m \t\t\u001b[38;5;124mf\u001b[39m\u001b[38;5;124m\"\u001b[39m\u001b[38;5;124mrate limit!\u001b[39m\u001b[38;5;124m\"\u001b[39m)\n\u001b[0;32m--> 264\u001b[0m \u001b[43mlast_response\u001b[49m\u001b[38;5;241;43m.\u001b[39;49m\u001b[43mraise_for_status\u001b[49m\u001b[43m(\u001b[49m\u001b[43m)\u001b[49m\n",
      "File \u001b[0;32m/usr/local/lib/python3.11/site-packages/requests/models.py:1021\u001b[0m, in \u001b[0;36mResponse.raise_for_status\u001b[0;34m(self)\u001b[0m\n\u001b[1;32m   1016\u001b[0m     http_error_msg \u001b[38;5;241m=\u001b[39m (\n\u001b[1;32m   1017\u001b[0m         \u001b[38;5;124mf\u001b[39m\u001b[38;5;124m\"\u001b[39m\u001b[38;5;132;01m{\u001b[39;00m\u001b[38;5;28mself\u001b[39m\u001b[38;5;241m.\u001b[39mstatus_code\u001b[38;5;132;01m}\u001b[39;00m\u001b[38;5;124m Server Error: \u001b[39m\u001b[38;5;132;01m{\u001b[39;00mreason\u001b[38;5;132;01m}\u001b[39;00m\u001b[38;5;124m for url: \u001b[39m\u001b[38;5;132;01m{\u001b[39;00m\u001b[38;5;28mself\u001b[39m\u001b[38;5;241m.\u001b[39murl\u001b[38;5;132;01m}\u001b[39;00m\u001b[38;5;124m\"\u001b[39m\n\u001b[1;32m   1018\u001b[0m     )\n\u001b[1;32m   1020\u001b[0m \u001b[38;5;28;01mif\u001b[39;00m http_error_msg:\n\u001b[0;32m-> 1021\u001b[0m     \u001b[38;5;28;01mraise\u001b[39;00m HTTPError(http_error_msg, response\u001b[38;5;241m=\u001b[39m\u001b[38;5;28mself\u001b[39m)\n",
      "\u001b[0;31mHTTPError\u001b[0m: 429 Client Error: unknown for url: https://trends.google.com/trends/api/widgetdata/multiline?req=%7B%22time%22%3A+%222020-07-02+2021-07-03%22%2C+%22resolution%22%3A+%22WEEK%22%2C+%22locale%22%3A+%22en-US%22%2C+%22comparisonItem%22%3A+%5B%7B%22geo%22%3A+%7B%7D%2C+%22complexKeywordsRestriction%22%3A+%7B%22keyword%22%3A+%5B%7B%22type%22%3A+%22BROAD%22%2C+%22value%22%3A+%22London%22%7D%5D%7D%7D%5D%2C+%22requestOptions%22%3A+%7B%22property%22%3A+%22%22%2C+%22backend%22%3A+%22IZG%22%2C+%22category%22%3A+0%7D%2C+%22userConfig%22%3A+%7B%22userType%22%3A+%22USER_TYPE_EMBED_OVER_QUOTA%22%7D%7D&token=APP6_UEAAAAAZ7X0Rnw5slQ9RhMa8w7L3xwlFpdYtwz_&hl=en&tz=360"
     ]
    }
   ],
   "source": [
    "# List to store the results\n",
    "search_counts = []\n",
    "\n",
    "# Iterate over DataFrame rows with index\n",
    "for index, row in movies_df_cleaned.iterrows():\n",
    "    print(f\"Processing movie {index + 1}/{len(movies_df_cleaned)}: {row['Title']}\")\n",
    "    search_count = get_googletrends_data(tr, row['Title'], row['Released'])\n",
    "    if search_count:\n",
    "        search_counts.append(search_count)\n",
    "        print(search_count)\n",
    "\n",
    "# Assign the results to the DataFrame\n",
    "movies_df_cleaned['Search_Count'] = search_counts"
   ]
  },
  {
   "cell_type": "code",
   "execution_count": null,
   "id": "1ac4dfbc-7b5a-49d9-8c31-a67ae9639562",
   "metadata": {},
   "outputs": [],
   "source": []
  }
 ],
 "metadata": {
  "kernelspec": {
   "display_name": "Python 3 (ipykernel)",
   "language": "python",
   "name": "python3"
  },
  "language_info": {
   "codemirror_mode": {
    "name": "ipython",
    "version": 3
   },
   "file_extension": ".py",
   "mimetype": "text/x-python",
   "name": "python",
   "nbconvert_exporter": "python",
   "pygments_lexer": "ipython3",
   "version": "3.11.3"
  }
 },
 "nbformat": 4,
 "nbformat_minor": 5
}
